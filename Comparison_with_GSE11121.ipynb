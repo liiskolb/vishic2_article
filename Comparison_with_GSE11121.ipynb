{
 "cells": [
  {
   "cell_type": "markdown",
   "metadata": {},
   "source": [
    "# VisHiC2: CLEANtotal versus GSE11121"
   ]
  },
  {
   "cell_type": "code",
   "execution_count": 317,
   "metadata": {
    "collapsed": false
   },
   "outputs": [],
   "source": [
    "# Libraries\n",
    "library(jsonlite)\n",
    "library(dplyr)\n",
    "library(ggplot2)\n",
    "#source(\"https://bioconductor.org/biocLite.R\")\n",
    "#biocLite(\"GOsummaries\")\n",
    "library(GOsummaries)\n",
    "library(RColorBrewer)\n",
    "library(xtable)"
   ]
  },
  {
   "cell_type": "markdown",
   "metadata": {},
   "source": [
    "## CLEANtotal data"
   ]
  },
  {
   "cell_type": "code",
   "execution_count": 318,
   "metadata": {
    "collapsed": false
   },
   "outputs": [],
   "source": [
    "# CLEANtotal data\n",
    "clusters <- fromJSON(\"CLEANtot_clusters.dict\",flatten=TRUE)\n",
    "clusters <- lapply(clusters, function(x) strsplit(x, \" \")[[1]])\n",
    "load(file=\"CLEANtot_gp.RData\") # gp.tot\n",
    "CLEANtotal = read.table(\"BreastTotalENSG_ave.mat\", sep=\"\\t\", header=T)"
   ]
  },
  {
   "cell_type": "code",
   "execution_count": 319,
   "metadata": {
    "collapsed": true
   },
   "outputs": [],
   "source": [
    "# Filter out terms bigger than 700\n",
    "gp.tot.filt = gp.tot[gp.tot$term.size<=700,]"
   ]
  },
  {
   "cell_type": "code",
   "execution_count": 320,
   "metadata": {
    "collapsed": true
   },
   "outputs": [],
   "source": [
    "# Dense clusters in CLEANtotal\n",
    "# With filtering\n",
    "# First annotated clusters\n",
    "first = \"NODE_12306 NODE_225 NODE_682 NODE_143 NODE_13 NODE_883 NODE_681 NODE_328 NODE_5 NODE_115 NODE_17 NODE_22 NODE_690 NODE_327 NODE_882 NODE_10703 NODE_224 NODE_192 NODE_2908 NODE_870 NODE_21 NODE_10707 NODE_1083 NODE_37 NODE_12181 NODE_11763 NODE_29 NODE_524 NODE_10042 NODE_10621 NODE_12041 NODE_10156 NODE_4232 NODE_8353 NODE_12153 NODE_6319 NODE_11251 NODE_3893 NODE_10999 NODE_7324 NODE_10508 NODE_880 NODE_5665 NODE_3835 NODE_7604 NODE_11751 NODE_671 NODE_11452 NODE_11801 NODE_285 NODE_9154 NODE_8739 NODE_11679 NODE_8545 NODE_10998 NODE_11367 NODE_8544 NODE_2202 NODE_12167 NODE_8337 NODE_9814 NODE_6987 NODE_11121 NODE_11653 NODE_12245 NODE_1080\"\n",
    "first = strsplit(first, \" \")[[1]]\n",
    "\n",
    "# Best p-value clusters\n",
    "best = \"NODE_10236 NODE_3309 NODE_7794 NODE_9641 NODE_2111 NODE_12390 NODE_7324 NODE_1093 NODE_2874 NODE_940 NODE_592 NODE_780 NODE_1623 NODE_443 NODE_7652 NODE_1197 NODE_887 NODE_11810 NODE_6640 NODE_2984 NODE_10940 NODE_312 NODE_10741 NODE_4486 NODE_4216 NODE_4103 NODE_8313 NODE_9351 NODE_10553 NODE_2460 NODE_10621 NODE_543 NODE_3029 NODE_866 NODE_9709 NODE_4143 NODE_285 NODE_12041 NODE_3476 NODE_7982 NODE_718 NODE_11950 NODE_3227 NODE_9230 NODE_1212 NODE_110 NODE_2845 NODE_3329 NODE_6997 NODE_5757 NODE_2309 NODE_1926 NODE_8756 NODE_11860 NODE_8625 NODE_2270 NODE_12245 NODE_101 NODE_671 NODE_12398 NODE_4584 NODE_6407 NODE_1529 NODE_3815 NODE_9870 NODE_890 NODE_12237 NODE_8544 NODE_2590 NODE_3916 NODE_447 NODE_540 NODE_8763 NODE_11119 NODE_12230 NODE_3359 NODE_1671 NODE_6093 NODE_10322 NODE_1989 NODE_5548 NODE_11679 NODE_2153 NODE_7241 NODE_444 NODE_3324 NODE_9330 NODE_5425 NODE_2143 NODE_4028 NODE_10998 NODE_5943 NODE_3466 NODE_8629 NODE_2377 NODE_6987 NODE_8737 NODE_8114 NODE_480 NODE_4232 NODE_7173 NODE_1272 NODE_11290 NODE_826 NODE_8557 NODE_3898 NODE_2668 NODE_422 NODE_11367 NODE_8135 NODE_4681 NODE_8628 NODE_12375 NODE_981 NODE_153 NODE_4196 NODE_828 NODE_11473 NODE_6951 NODE_233 NODE_1395 NODE_11801 NODE_12183 NODE_1089 NODE_7992 NODE_8739 NODE_1808 NODE_5436 NODE_4682 NODE_1194 NODE_167 NODE_3326 NODE_4526 NODE_3696 NODE_11211 NODE_8568 NODE_878 NODE_1080 NODE_5665 NODE_997 NODE_789 NODE_2096 NODE_6685 NODE_1718 NODE_1241 NODE_1788 NODE_264 NODE_11653 NODE_2202 NODE_2891 NODE_1530 NODE_1351 NODE_3366 NODE_2888 NODE_7886 NODE_1017 NODE_1909 NODE_11121 NODE_5281 NODE_5348 NODE_7632 NODE_10841 NODE_8337 NODE_3906 NODE_8895 NODE_9814 NODE_11254 NODE_3367\"\n",
    "best = strsplit(best, \" \")[[1]]\n",
    "\n",
    "# F1 clusters\n",
    "F1 = \"NODE_7467 NODE_9876 NODE_9419 NODE_8611 NODE_3906 NODE_8895 NODE_9814 NODE_11254 NODE_9552 NODE_3367 NODE_8540 NODE_11497 NODE_11522 NODE_8400 NODE_9068 NODE_11810 NODE_10181 NODE_4216 NODE_12983 NODE_8791 NODE_10286 NODE_6450 NODE_1322 NODE_4449 NODE_4486 NODE_10114 NODE_7982 NODE_718 NODE_9959 NODE_3227 NODE_2625 NODE_5757 NODE_8313 NODE_5839 NODE_3819 NODE_11860 NODE_8021 NODE_8625 NODE_8988 NODE_9010 NODE_11008 NODE_3957 NODE_8053 NODE_11011 NODE_11056 NODE_2950 NODE_3071 NODE_9563 NODE_7123 NODE_12398 NODE_4584 NODE_8821 NODE_11893 NODE_4831 NODE_4885 NODE_10066 NODE_8493 NODE_2590 NODE_6407 NODE_1465 NODE_12826 NODE_1452 NODE_2460 NODE_7324 NODE_1671 NODE_11950 NODE_3629 NODE_6110 NODE_5032 NODE_5341 NODE_11119 NODE_12237 NODE_8544 NODE_4355 NODE_10347 NODE_11873 NODE_9645 NODE_2153 NODE_8495 NODE_6051 NODE_540 NODE_4143 NODE_3288 NODE_10305 NODE_8168 NODE_3111 NODE_13141 NODE_10010 NODE_10248 NODE_3324 NODE_9330 NODE_5425 NODE_8018 NODE_9063 NODE_5253 NODE_3466 NODE_12059 NODE_12355 NODE_3359 NODE_11290 NODE_7173 NODE_1272 NODE_285 NODE_13336 NODE_8737 NODE_4267 NODE_1954 NODE_5006 NODE_7718 NODE_543 NODE_1623 NODE_10549 NODE_3287 NODE_4260 NODE_6213 NODE_6141 NODE_9937 NODE_8564 NODE_11141 NODE_1395 NODE_7992 NODE_9934 NODE_5751 NODE_7041 NODE_6599 NODE_6951 NODE_5727 NODE_5548 NODE_153 NODE_12547 NODE_3374 NODE_13014 NODE_8114 NODE_480 NODE_9230 NODE_13200 NODE_11367 NODE_4668 NODE_11608 NODE_8568 NODE_11839 NODE_5665 NODE_12598 NODE_8658 NODE_11226 NODE_12267 NODE_7241 NODE_233 NODE_10187 NODE_6547 NODE_10341 NODE_10178 NODE_1909 NODE_4468 NODE_3820 NODE_11237 NODE_11506 NODE_167 NODE_5828 NODE_3645 NODE_10609 NODE_4181 NODE_12543 NODE_9783 NODE_1782 NODE_4232 NODE_4327 NODE_1529 NODE_2280 NODE_6036 NODE_789 NODE_1351 NODE_1048 NODE_12550 NODE_4590 NODE_8629 NODE_2377 NODE_4499 NODE_890 NODE_4883 NODE_10841 NODE_6371 NODE_997 NODE_10290 NODE_12845 NODE_6319 NODE_13258 NODE_3356 NODE_12919 NODE_5713 NODE_5212 NODE_6159 NODE_3696 NODE_3927 NODE_2994 NODE_10238 NODE_671 NODE_9351 NODE_137 NODE_12764 NODE_10402 NODE_3136 NODE_8206 NODE_11836 NODE_9438 NODE_9888 NODE_10811 NODE_6640 NODE_4118 NODE_4715 NODE_4682 NODE_1194 NODE_12375 NODE_7499 NODE_8011 NODE_8628 NODE_5348 NODE_3387 NODE_11106 NODE_8082 NODE_10526 NODE_3610 NODE_10783 NODE_10880 NODE_10244 NODE_8557 NODE_1241 NODE_4430 NODE_264 NODE_9274 NODE_101 NODE_4083 NODE_5893 NODE_828 NODE_4431 NODE_13263 NODE_3730 NODE_2105 NODE_11704 NODE_4409 NODE_1464 NODE_6234 NODE_9647 NODE_10672 NODE_2435 NODE_2733 NODE_6546 NODE_1926 NODE_2616 NODE_9278 NODE_11653 NODE_12245 NODE_13045 NODE_9851 NODE_7378 NODE_5484 NODE_6131 NODE_13165 NODE_6936 NODE_10536 NODE_9420 NODE_1089 NODE_6379 NODE_6723 NODE_6685 NODE_10998 NODE_9440 NODE_2406 NODE_4743 NODE_6059 NODE_8800 NODE_1080 NODE_6249 NODE_7886 NODE_7823 NODE_12468 NODE_6206 NODE_1808 NODE_1354 NODE_5462 NODE_11473 NODE_6987 NODE_10741 NODE_11801 NODE_5608 NODE_13011 NODE_8337 NODE_1799 NODE_447 NODE_422 NODE_4432 NODE_981 NODE_4153 NODE_878 NODE_12183 NODE_8157 NODE_3635 NODE_7632 NODE_2096 NODE_11807 NODE_6358 NODE_4373 NODE_12868 NODE_1788 NODE_1017 NODE_1989 NODE_5281 NODE_11679 NODE_4196 NODE_5436 NODE_4681 NODE_2888 NODE_3366 NODE_1530 NODE_5124 NODE_8169 NODE_2202 NODE_1718 NODE_6461 NODE_3923 NODE_11121 NODE_2071 NODE_8739 NODE_826 NODE_3581 NODE_2891 NODE_10782\"\n",
    "F1 = strsplit(F1, \" \")[[1]]"
   ]
  },
  {
   "cell_type": "markdown",
   "metadata": {},
   "source": [
    "## GSE11121 data"
   ]
  },
  {
   "cell_type": "markdown",
   "metadata": {},
   "source": [
    "Converted the 2579 probe IDs to ENSEMBL IDs using gconvert. 2471 probes did not have ENSEMBL ID. They published 11 clusters they selected by visual inspection from heatmap and dendrogram (Basal-like, Cellular Immunsystem (T-cell), Humoral Immunsystem (B-cell), Interferon, Proliferation, Luminal (ER), Chr17 (ERBB2), Stromal, Normal-like, Jun-Fos, Transcription), leftover genes were classified as Unclassified. "
   ]
  },
  {
   "cell_type": "code",
   "execution_count": 321,
   "metadata": {
    "collapsed": false
   },
   "outputs": [
    {
     "data": {
      "text/html": [
       "<ol class=list-inline>\n",
       "\t<li>Cellular Immunsystem</li>\n",
       "\t<li>Basal</li>\n",
       "\t<li>Unclassified</li>\n",
       "\t<li>Stromal</li>\n",
       "\t<li>Normal like</li>\n",
       "\t<li>Jun - Fos</li>\n",
       "\t<li>Proliferation</li>\n",
       "\t<li>Transcription</li>\n",
       "\t<li>Chr 17</li>\n",
       "\t<li>Estrogen receptor</li>\n",
       "\t<li>Interferon</li>\n",
       "\t<li>Humoral Immunsystem</li>\n",
       "</ol>\n"
      ],
      "text/latex": [
       "\\begin{enumerate*}\n",
       "\\item Cellular Immunsystem\n",
       "\\item Basal\n",
       "\\item Unclassified\n",
       "\\item Stromal\n",
       "\\item Normal like\n",
       "\\item Jun - Fos\n",
       "\\item Proliferation\n",
       "\\item Transcription\n",
       "\\item Chr 17\n",
       "\\item Estrogen receptor\n",
       "\\item Interferon\n",
       "\\item Humoral Immunsystem\n",
       "\\end{enumerate*}\n"
      ],
      "text/markdown": [
       "1. Cellular Immunsystem\n",
       "2. Basal\n",
       "3. Unclassified\n",
       "4. Stromal\n",
       "5. Normal like\n",
       "6. Jun - Fos\n",
       "7. Proliferation\n",
       "8. Transcription\n",
       "9. Chr 17\n",
       "10. Estrogen receptor\n",
       "11. Interferon\n",
       "12. Humoral Immunsystem\n",
       "\n",
       "\n"
      ],
      "text/plain": [
       " [1] Cellular Immunsystem Basal                Unclassified        \n",
       " [4] Stromal              Normal like          Jun - Fos           \n",
       " [7] Proliferation        Transcription        Chr 17              \n",
       "[10] Estrogen receptor    Interferon           Humoral Immunsystem \n",
       "13 Levels: Basal Classification Cellular Immunsystem ... Transcription"
      ]
     },
     "metadata": {},
     "output_type": "display_data"
    }
   ],
   "source": [
    "load(file=\"GSE11121.RData\") # GSE11121\n",
    "# Remove NA rows\n",
    "GSE11121_na = GSE11121[complete.cases(GSE11121),]\n",
    "cluster_types = unique(GSE11121$Class)\n",
    "cluster_types"
   ]
  },
  {
   "cell_type": "code",
   "execution_count": 322,
   "metadata": {
    "collapsed": false
   },
   "outputs": [
    {
     "data": {
      "text/html": [
       "<ol class=list-inline>\n",
       "\t<li>2579</li>\n",
       "\t<li>6</li>\n",
       "</ol>\n"
      ],
      "text/latex": [
       "\\begin{enumerate*}\n",
       "\\item 2579\n",
       "\\item 6\n",
       "\\end{enumerate*}\n"
      ],
      "text/markdown": [
       "1. 2579\n",
       "2. 6\n",
       "\n",
       "\n"
      ],
      "text/plain": [
       "[1] 2579    6"
      ]
     },
     "metadata": {},
     "output_type": "display_data"
    },
    {
     "data": {
      "text/html": [
       "<ol class=list-inline>\n",
       "\t<li>1198</li>\n",
       "\t<li>6</li>\n",
       "</ol>\n"
      ],
      "text/latex": [
       "\\begin{enumerate*}\n",
       "\\item 1198\n",
       "\\item 6\n",
       "\\end{enumerate*}\n"
      ],
      "text/markdown": [
       "1. 1198\n",
       "2. 6\n",
       "\n",
       "\n"
      ],
      "text/plain": [
       "[1] 1198    6"
      ]
     },
     "metadata": {},
     "output_type": "display_data"
    }
   ],
   "source": [
    "dim(GSE11121)\n",
    "dim(GSE11121[GSE11121$Class==\"Unclassified\",])"
   ]
  },
  {
   "cell_type": "markdown",
   "metadata": {},
   "source": [
    "As GSE11121 is one of the datasets in the CLEAN dataset, we compare the results against our CLEANtotal clusters in order to see if the manual selection is needed. Also, keep in mind that we will look the clusters from the whole data not from DEGs. 1963 genes out of 2471 are in CLEANtotal data.  "
   ]
  },
  {
   "cell_type": "markdown",
   "metadata": {},
   "source": [
    "The published marker genes for the classes (shown in table below). IGHM is the only marker that is not in CLEANtotal data. "
   ]
  },
  {
   "cell_type": "code",
   "execution_count": 323,
   "metadata": {
    "collapsed": false
   },
   "outputs": [
    {
     "data": {
      "text/html": [
       "<table>\n",
       "<thead><tr><th scope=col>class</th><th scope=col>markers</th></tr></thead>\n",
       "<tbody>\n",
       "\t<tr><td>Basal                    </td><td>KRT5, KRT17              </td></tr>\n",
       "\t<tr><td>Cellular Immunsystem     </td><td>TRA@, TRB@, TRD@, CD8A   </td></tr>\n",
       "\t<tr><td>Humoral Immunsystem      </td><td>IGHM, IGHG, IGKC         </td></tr>\n",
       "\t<tr><td>Interferon               </td><td>IFI27, IFI35, IFIT1      </td></tr>\n",
       "\t<tr><td>Proliferation            </td><td>CCNB2, UBE2C, STK6, MKI67</td></tr>\n",
       "\t<tr><td>Estrogen receptor        </td><td>ESR1, MAPT, PGR, SCUBE2  </td></tr>\n",
       "\t<tr><td>Chr 17                   </td><td>ERBB2, GRB7              </td></tr>\n",
       "\t<tr><td>Stromal                  </td><td>COL1A1, COL5A1, COL6A1   </td></tr>\n",
       "\t<tr><td>Normal like              </td><td>FABP4, PPARG             </td></tr>\n",
       "\t<tr><td>Jun - Fos                </td><td>JUN, FOS                 </td></tr>\n",
       "\t<tr><td>Transcription            </td><td>                         </td></tr>\n",
       "</tbody>\n",
       "</table>\n"
      ],
      "text/latex": [
       "\\begin{tabular}{r|ll}\n",
       " class & markers\\\\\n",
       "\\hline\n",
       "\t Basal                     & KRT5, KRT17              \\\\\n",
       "\t Cellular Immunsystem      & TRA@, TRB@, TRD@, CD8A   \\\\\n",
       "\t Humoral Immunsystem       & IGHM, IGHG, IGKC         \\\\\n",
       "\t Interferon                & IFI27, IFI35, IFIT1      \\\\\n",
       "\t Proliferation             & CCNB2, UBE2C, STK6, MKI67\\\\\n",
       "\t Estrogen receptor         & ESR1, MAPT, PGR, SCUBE2  \\\\\n",
       "\t Chr 17                    & ERBB2, GRB7              \\\\\n",
       "\t Stromal                   & COL1A1, COL5A1, COL6A1   \\\\\n",
       "\t Normal like               & FABP4, PPARG             \\\\\n",
       "\t Jun - Fos                 & JUN, FOS                 \\\\\n",
       "\t Transcription             &                          \\\\\n",
       "\\end{tabular}\n"
      ],
      "text/markdown": [
       "\n",
       "class | markers | \n",
       "|---|---|---|---|---|---|---|---|---|---|---|\n",
       "| Basal                     | KRT5, KRT17               | \n",
       "| Cellular Immunsystem      | TRA@, TRB@, TRD@, CD8A    | \n",
       "| Humoral Immunsystem       | IGHM, IGHG, IGKC          | \n",
       "| Interferon                | IFI27, IFI35, IFIT1       | \n",
       "| Proliferation             | CCNB2, UBE2C, STK6, MKI67 | \n",
       "| Estrogen receptor         | ESR1, MAPT, PGR, SCUBE2   | \n",
       "| Chr 17                    | ERBB2, GRB7               | \n",
       "| Stromal                   | COL1A1, COL5A1, COL6A1    | \n",
       "| Normal like               | FABP4, PPARG              | \n",
       "| Jun - Fos                 | JUN, FOS                  | \n",
       "| Transcription             |                           | \n",
       "\n",
       "\n"
      ],
      "text/plain": [
       "   class                markers                  \n",
       "1  Basal                KRT5, KRT17              \n",
       "2  Cellular Immunsystem TRA@, TRB@, TRD@, CD8A   \n",
       "3  Humoral Immunsystem  IGHM, IGHG, IGKC         \n",
       "4  Interferon           IFI27, IFI35, IFIT1      \n",
       "5  Proliferation        CCNB2, UBE2C, STK6, MKI67\n",
       "6  Estrogen receptor    ESR1, MAPT, PGR, SCUBE2  \n",
       "7  Chr 17               ERBB2, GRB7              \n",
       "8  Stromal              COL1A1, COL5A1, COL6A1   \n",
       "9  Normal like          FABP4, PPARG             \n",
       "10 Jun - Fos            JUN, FOS                 \n",
       "11 Transcription                                 "
      ]
     },
     "metadata": {},
     "output_type": "display_data"
    }
   ],
   "source": [
    "markers = data.frame(class=c(\"Basal\", \"Cellular Immunsystem\", \"Humoral Immunsystem\", \"Interferon\", \"Proliferation\", \"Estrogen receptor\", \"Chr 17\", \"Stromal\", \"Normal like\", \"Jun - Fos\", \"Transcription\"), \n",
    "                     markers=c(\"KRT5, KRT17\", \"TRA@, TRB@, TRD@, CD8A\", \"IGHM, IGHG, IGKC\", \"IFI27, IFI35, IFIT1\", \"CCNB2, UBE2C, STK6, MKI67\", \"ESR1, MAPT, PGR, SCUBE2\", \"ERBB2, GRB7\", \"COL1A1, COL5A1, COL6A1\", \"FABP4, PPARG\", \"JUN, FOS\", \" \"))\n",
    "markers"
   ]
  },
  {
   "cell_type": "code",
   "execution_count": 324,
   "metadata": {
    "collapsed": false
   },
   "outputs": [
    {
     "data": {
      "text/html": [
       "<table>\n",
       "<thead><tr><th></th><th scope=col>Probe</th><th scope=col>Class</th><th scope=col>Symbol</th><th scope=col>Loc</th><th scope=col>Title</th><th scope=col>target</th></tr></thead>\n",
       "<tbody>\n",
       "\t<tr><th scope=row>1504</th><td>211637_x_at                     </td><td>Humoral Immunsystem             </td><td>IGHM                            </td><td>Chr:14q32.33                    </td><td>immunoglobulin heavy constant mu</td><td>ENSG00000211970                 </td></tr>\n",
       "\t<tr><th scope=row>1980</th><td>216491_x_at                     </td><td>Humoral Immunsystem             </td><td>IGHM                            </td><td>Chr:14q32.33                    </td><td>immunoglobulin heavy constant mu</td><td>ENSG00000211970                 </td></tr>\n",
       "</tbody>\n",
       "</table>\n"
      ],
      "text/latex": [
       "\\begin{tabular}{r|llllll}\n",
       "  & Probe & Class & Symbol & Loc & Title & target\\\\\n",
       "\\hline\n",
       "\t1504 & 211637\\_x\\_at                  & Humoral Immunsystem              & IGHM                             & Chr:14q32.33                     & immunoglobulin heavy constant mu & ENSG00000211970                 \\\\\n",
       "\t1980 & 216491\\_x\\_at                  & Humoral Immunsystem              & IGHM                             & Chr:14q32.33                     & immunoglobulin heavy constant mu & ENSG00000211970                 \\\\\n",
       "\\end{tabular}\n"
      ],
      "text/markdown": [
       "\n",
       "| <!--/--> | Probe | Class | Symbol | Loc | Title | target | \n",
       "|---|---|\n",
       "| 1504 | 211637_x_at                      | Humoral Immunsystem              | IGHM                             | Chr:14q32.33                     | immunoglobulin heavy constant mu | ENSG00000211970                  | \n",
       "| 1980 | 216491_x_at                      | Humoral Immunsystem              | IGHM                             | Chr:14q32.33                     | immunoglobulin heavy constant mu | ENSG00000211970                  | \n",
       "\n",
       "\n"
      ],
      "text/plain": [
       "     Probe       Class               Symbol Loc         \n",
       "1504 211637_x_at Humoral Immunsystem IGHM   Chr:14q32.33\n",
       "1980 216491_x_at Humoral Immunsystem IGHM   Chr:14q32.33\n",
       "     Title                            target         \n",
       "1504 immunoglobulin heavy constant mu ENSG00000211970\n",
       "1980 immunoglobulin heavy constant mu ENSG00000211970"
      ]
     },
     "metadata": {},
     "output_type": "display_data"
    }
   ],
   "source": [
    "marks = c(\"KRT5, KRT17\", \"TRA@, TRB@, TRD@, CD8A\", \"IGHM, IGHG, IGKC\", \"IFI27, IFI35, IFIT1\", \"CCNB2, UBE2C, STK6, MKI67\", \"ESR1, MAPT, PGR, SCUBE2\", \"ERBB2, GRB7\", \"COL1A1, COL5A1, COL6A1\", \"FABP4, PPARG\", \"JUN, FOS\")\n",
    "marks = unlist(lapply(marks, function(x)strsplit(x, \", \")))\n",
    "marks = GSE11121_na[GSE11121_na$Symbol %in% marks, ] \n",
    "marks[!(marks$target %in% CLEANtotal$target),] "
   ]
  },
  {
   "cell_type": "markdown",
   "metadata": {},
   "source": [
    "## Comparison"
   ]
  },
  {
   "cell_type": "markdown",
   "metadata": {},
   "source": [
    "The probes that are not in CLEANtotal data."
   ]
  },
  {
   "cell_type": "code",
   "execution_count": 325,
   "metadata": {
    "collapsed": false
   },
   "outputs": [
    {
     "data": {},
     "metadata": {},
     "output_type": "display_data"
    },
    {
     "data": {
      "image/png": "[encoded data removed]",
      "text/plain": [
       "plot without title"
      ]
     },
     "metadata": {},
     "output_type": "display_data"
    }
   ],
   "source": [
    "#length(intersect(GSE11121$target, CLEANtotal$target))\n",
    "difference = table(GSE11121_na[GSE11121_na$target %in% setdiff(GSE11121_na$target, CLEANtotal$target),][[\"Class\"]])\n",
    "difference = as.data.frame(difference)\n",
    "difference = difference[difference$Var1!=\"Classification\",]\n",
    "difference$Var1 = factor(difference$Var1, levels = c(\"Unclassified\", \"Humoral Immunsystem\",'Basal', 'Normal like','Chr 17','Cellular Immunsystem', 'Jun - Fos', 'Transcription',\"Estrogen receptor\", 'Interferon',\"Stromal\", 'Proliferation'))\n",
    "ggplot(difference, aes(x=Var1, y=Freq)) + geom_bar(stat=\"identity\") + theme_bw() + theme(axis.text.x=element_text(angle=90,hjust=1, vjust=0.5)) + xlab(\"Class\")"
   ]
  },
  {
   "cell_type": "markdown",
   "metadata": {},
   "source": [
    "### Finding clusters"
   ]
  },
  {
   "cell_type": "markdown",
   "metadata": {},
   "source": [
    "We look for the clusters from CLEANtotal Best clusters by looking for the marker genes of corresponding class from the dense clusters and take these as candidate clusters."
   ]
  },
  {
   "cell_type": "code",
   "execution_count": 326,
   "metadata": {
    "collapsed": false
   },
   "outputs": [],
   "source": [
    "# FInd biggest overlaping clusters in dense clusters\n",
    "GSEclusters = list()\n",
    "# Find clusters\n",
    "for(cl in cluster_types){\n",
    "  GSEclusters[[cl]] = GSE11121_na[GSE11121_na$Class==cl,\"target\"]\n",
    "}\n",
    "\n",
    "res = data.frame()\n",
    "for(cl in names(GSEclusters)){\n",
    "  olaps = lapply(clusters[best], function(x) length(intersect(GSEclusters[[cl]], x)))\n",
    "  olaps = olaps[olaps>0]\n",
    "  idx = which.max(olaps)\n",
    "  res[cl,\"cl\"] = names(idx)\n",
    "  res[cl, \"size\"] = length(GSEclusters[[cl]])\n",
    "  res[cl, \"overlap\"] = olaps[[idx]]\n",
    "  res[cl, \"prop\"] = olaps[[idx]]/length(GSEclusters[[cl]])\n",
    "}\n",
    "\n",
    "candidates = data.frame()\n",
    "for(cl in best){\n",
    "    for(m in unique(marks$target)){\n",
    "        if(m %in% clusters[[cl]]){\n",
    "            candidates[m, \"CLEANcluster\"] = cl\n",
    "            candidates[m, \"Cluster.size\"] = length(clusters[[cl]])\n",
    "            candidates[m, \"Symbol\"] = marks[marks$target==m, ][[\"Symbol\"]][1]\n",
    "            candidates[m, \"Class\"] = marks[marks$target==m, ][[\"Class\"]][1]\n",
    "            candidates[m, \"Class.size\"] = dim(GSE11121_na[GSE11121_na$Class==candidates[m, \"Class\"],])[1]\n",
    "            candidates[m, \"Overlap\"] = length(intersect(GSE11121_na[GSE11121_na$Class==candidates[m, \"Class\"],][[\"target\"]], clusters[[cl]]))\n",
    "        }\n",
    "    }\n",
    "}\n",
    "\n",
    "#candidates[[\"Overlap\"]] = res[candidates$Class,\"overlap\"]\n",
    "candidates[[\"Perc\"]] = candidates$Overlap/candidates$'Class.size' \n",
    "candidates[[\"ENSG\"]] = row.names(candidates)\n",
    "row.names(candidates) = NULL \n",
    "transcr = GSE11121_na[GSE11121_na$Class==\"Transcription\", ][[\"target\"]]\n",
    "pr = length(intersect(transcr, clusters[[\"NODE_443\"]]))/length(transcr)\n",
    "tr = data.frame(\"CLEANcluster\"=\"NODE_443\", \"Cluster.size\"=length(clusters[[\"NODE_443\"]]), \"Symbol\"=\" \", \"Class\"=\"Transcription\", \"Class.size\"=length(transcr), \"Overlap\"=length(intersect(transcr, clusters[[\"NODE_443\"]])), \"Perc\" = pr, \"ENSG\"=\" \")\n",
    "candidates = rbind(candidates, tr)"
   ]
  },
  {
   "cell_type": "code",
   "execution_count": 327,
   "metadata": {
    "collapsed": false
   },
   "outputs": [],
   "source": [
    "candidates = candidates[,c(\"Symbol\", \"ENSG\", \"CLEANcluster\", \"Cluster.size\", \"Class\", \"Class.size\", \"Overlap\", \"Perc\")]"
   ]
  },
  {
   "cell_type": "code",
   "execution_count": 328,
   "metadata": {
    "collapsed": false
   },
   "outputs": [
    {
     "data": {
      "text/html": [
       "<table>\n",
       "<thead><tr><th scope=col>Symbol</th><th scope=col>ENSG</th><th scope=col>CLEANcluster</th><th scope=col>Cluster.size</th><th scope=col>Class</th><th scope=col>Class.size</th><th scope=col>Overlap</th><th scope=col>Perc</th></tr></thead>\n",
       "<tbody>\n",
       "\t<tr><td>KRT5                </td><td>ENSG00000186081     </td><td>NODE_2984           </td><td>119                 </td><td>Basal               </td><td>226                 </td><td> 60                 </td><td>0.26548673          </td></tr>\n",
       "\t<tr><td>KRT17               </td><td>ENSG00000128422     </td><td>NODE_2984           </td><td>119                 </td><td>Basal               </td><td>226                 </td><td> 60                 </td><td>0.26548673          </td></tr>\n",
       "\t<tr><td>CD8A                </td><td>ENSG00000153563     </td><td>NODE_7794           </td><td>283                 </td><td>Cellular Immunsystem</td><td>127                 </td><td> 54                 </td><td>0.42519685          </td></tr>\n",
       "\t<tr><td>TRD@                </td><td>ENSG00000211829     </td><td>NODE_7794           </td><td>283                 </td><td>Cellular Immunsystem</td><td>127                 </td><td> 54                 </td><td>0.42519685          </td></tr>\n",
       "\t<tr><td>TRA@                </td><td>ENSG00000277734     </td><td>NODE_2111           </td><td>252                 </td><td>Cellular Immunsystem</td><td>127                 </td><td> 48                 </td><td>0.37795276          </td></tr>\n",
       "\t<tr><td>TRB@                </td><td>ENSG00000211751     </td><td>NODE_2111           </td><td>252                 </td><td>Cellular Immunsystem</td><td>127                 </td><td> 48                 </td><td>0.37795276          </td></tr>\n",
       "\t<tr><td>IGHM                </td><td>ENSG00000211899     </td><td>NODE_7794           </td><td>283                 </td><td>Humoral Immunsystem </td><td> 38                 </td><td>  5                 </td><td>0.13157895          </td></tr>\n",
       "\t<tr><td>IGKC                </td><td>ENSG00000239951     </td><td>NODE_2111           </td><td>252                 </td><td>Humoral Immunsystem </td><td> 38                 </td><td> 19                 </td><td>0.50000000          </td></tr>\n",
       "\t<tr><td>IGKC                </td><td>ENSG00000242766     </td><td>NODE_2111           </td><td>252                 </td><td>Humoral Immunsystem </td><td> 38                 </td><td> 19                 </td><td>0.50000000          </td></tr>\n",
       "\t<tr><td>IGHM                </td><td>ENSG00000211949     </td><td>NODE_2111           </td><td>252                 </td><td>Humoral Immunsystem </td><td> 38                 </td><td> 19                 </td><td>0.50000000          </td></tr>\n",
       "\t<tr><td>IGKC                </td><td>ENSG00000242534     </td><td>NODE_2111           </td><td>252                 </td><td>Humoral Immunsystem </td><td> 38                 </td><td> 19                 </td><td>0.50000000          </td></tr>\n",
       "\t<tr><td>IGKC                </td><td>ENSG00000211598     </td><td>NODE_2111           </td><td>252                 </td><td>Humoral Immunsystem </td><td> 38                 </td><td> 19                 </td><td>0.50000000          </td></tr>\n",
       "\t<tr><td>IGKC                </td><td>ENSG00000242371     </td><td>NODE_2111           </td><td>252                 </td><td>Humoral Immunsystem </td><td> 38                 </td><td> 19                 </td><td>0.50000000          </td></tr>\n",
       "\t<tr><td>IFI27               </td><td>ENSG00000165949     </td><td>NODE_2111           </td><td>252                 </td><td>Interferon          </td><td> 36                 </td><td> 30                 </td><td>0.83333333          </td></tr>\n",
       "\t<tr><td>IFIT1               </td><td>ENSG00000185745     </td><td>NODE_2111           </td><td>252                 </td><td>Interferon          </td><td> 36                 </td><td> 30                 </td><td>0.83333333          </td></tr>\n",
       "\t<tr><td>IFI35               </td><td>ENSG00000068079     </td><td>NODE_2111           </td><td>252                 </td><td>Interferon          </td><td> 36                 </td><td> 30                 </td><td>0.83333333          </td></tr>\n",
       "\t<tr><td>CCNB2               </td><td>ENSG00000157456     </td><td>NODE_10236          </td><td>168                 </td><td>Proliferation       </td><td> 97                 </td><td> 77                 </td><td>0.79381443          </td></tr>\n",
       "\t<tr><td>UBE2C               </td><td>ENSG00000175063     </td><td>NODE_10236          </td><td>168                 </td><td>Proliferation       </td><td> 97                 </td><td> 77                 </td><td>0.79381443          </td></tr>\n",
       "\t<tr><td>STK6                </td><td>ENSG00000087586     </td><td>NODE_10236          </td><td>168                 </td><td>Proliferation       </td><td> 97                 </td><td> 77                 </td><td>0.79381443          </td></tr>\n",
       "\t<tr><td>MKI67               </td><td>ENSG00000148773     </td><td>NODE_10236          </td><td>168                 </td><td>Proliferation       </td><td> 97                 </td><td> 77                 </td><td>0.79381443          </td></tr>\n",
       "\t<tr><td>MAPT                </td><td>ENSG00000186868     </td><td>NODE_9709           </td><td>161                 </td><td>Estrogen receptor   </td><td>120                 </td><td> 44                 </td><td>0.36666667          </td></tr>\n",
       "\t<tr><td>ESR1                </td><td>ENSG00000091831     </td><td>NODE_9709           </td><td>161                 </td><td>Estrogen receptor   </td><td>120                 </td><td> 44                 </td><td>0.36666667          </td></tr>\n",
       "\t<tr><td>SCUBE2              </td><td>ENSG00000175356     </td><td>NODE_9709           </td><td>161                 </td><td>Estrogen receptor   </td><td>120                 </td><td> 44                 </td><td>0.36666667          </td></tr>\n",
       "\t<tr><td>GRB7                </td><td>ENSG00000141738     </td><td>NODE_4526           </td><td>  7                 </td><td>Chr 17              </td><td> 58                 </td><td>  6                 </td><td>0.10344828          </td></tr>\n",
       "\t<tr><td>ERBB2               </td><td>ENSG00000141736     </td><td>NODE_4526           </td><td>  7                 </td><td>Chr 17              </td><td> 58                 </td><td>  6                 </td><td>0.10344828          </td></tr>\n",
       "\t<tr><td>COL1A1              </td><td>ENSG00000108821     </td><td>NODE_9641           </td><td>106                 </td><td>Stromal             </td><td>169                 </td><td> 46                 </td><td>0.27218935          </td></tr>\n",
       "\t<tr><td>COL5A1              </td><td>ENSG00000130635     </td><td>NODE_9641           </td><td>106                 </td><td>Stromal             </td><td>169                 </td><td> 46                 </td><td>0.27218935          </td></tr>\n",
       "\t<tr><td>COL6A1              </td><td>ENSG00000142156     </td><td>NODE_9641           </td><td>106                 </td><td>Stromal             </td><td>169                 </td><td> 46                 </td><td>0.27218935          </td></tr>\n",
       "\t<tr><td>FABP4               </td><td>ENSG00000170323     </td><td>NODE_1093           </td><td>717                 </td><td>Normal like         </td><td>281                 </td><td>147                 </td><td>0.52313167          </td></tr>\n",
       "\t<tr><td>PPARG               </td><td>ENSG00000132170     </td><td>NODE_887            </td><td>160                 </td><td>Normal like         </td><td>281                 </td><td> 29                 </td><td>0.10320285          </td></tr>\n",
       "\t<tr><td>JUN                 </td><td>ENSG00000177606     </td><td>NODE_1093           </td><td>717                 </td><td>Jun - Fos           </td><td> 56                 </td><td> 13                 </td><td>0.23214286          </td></tr>\n",
       "\t<tr><td>FOS                 </td><td>ENSG00000170345     </td><td>NODE_1093           </td><td>717                 </td><td>Jun - Fos           </td><td> 56                 </td><td> 13                 </td><td>0.23214286          </td></tr>\n",
       "\t<tr><td>                    </td><td>                    </td><td>NODE_443            </td><td>521                 </td><td>Transcription       </td><td>104                 </td><td>  8                 </td><td>0.07692308          </td></tr>\n",
       "</tbody>\n",
       "</table>\n"
      ],
      "text/latex": [
       "\\begin{tabular}{r|llllllll}\n",
       " Symbol & ENSG & CLEANcluster & Cluster.size & Class & Class.size & Overlap & Perc\\\\\n",
       "\\hline\n",
       "\t KRT5                 & ENSG00000186081      & NODE\\_2984          & 119                  & Basal                & 226                  &  60                  & 0.26548673          \\\\\n",
       "\t KRT17                & ENSG00000128422      & NODE\\_2984          & 119                  & Basal                & 226                  &  60                  & 0.26548673          \\\\\n",
       "\t CD8A                 & ENSG00000153563      & NODE\\_7794          & 283                  & Cellular Immunsystem & 127                  &  54                  & 0.42519685          \\\\\n",
       "\t TRD@                 & ENSG00000211829      & NODE\\_7794          & 283                  & Cellular Immunsystem & 127                  &  54                  & 0.42519685          \\\\\n",
       "\t TRA@                 & ENSG00000277734      & NODE\\_2111          & 252                  & Cellular Immunsystem & 127                  &  48                  & 0.37795276          \\\\\n",
       "\t TRB@                 & ENSG00000211751      & NODE\\_2111          & 252                  & Cellular Immunsystem & 127                  &  48                  & 0.37795276          \\\\\n",
       "\t IGHM                 & ENSG00000211899      & NODE\\_7794          & 283                  & Humoral Immunsystem  &  38                  &   5                  & 0.13157895          \\\\\n",
       "\t IGKC                 & ENSG00000239951      & NODE\\_2111          & 252                  & Humoral Immunsystem  &  38                  &  19                  & 0.50000000          \\\\\n",
       "\t IGKC                 & ENSG00000242766      & NODE\\_2111          & 252                  & Humoral Immunsystem  &  38                  &  19                  & 0.50000000          \\\\\n",
       "\t IGHM                 & ENSG00000211949      & NODE\\_2111          & 252                  & Humoral Immunsystem  &  38                  &  19                  & 0.50000000          \\\\\n",
       "\t IGKC                 & ENSG00000242534      & NODE\\_2111          & 252                  & Humoral Immunsystem  &  38                  &  19                  & 0.50000000          \\\\\n",
       "\t IGKC                 & ENSG00000211598      & NODE\\_2111          & 252                  & Humoral Immunsystem  &  38                  &  19                  & 0.50000000          \\\\\n",
       "\t IGKC                 & ENSG00000242371      & NODE\\_2111          & 252                  & Humoral Immunsystem  &  38                  &  19                  & 0.50000000          \\\\\n",
       "\t IFI27                & ENSG00000165949      & NODE\\_2111          & 252                  & Interferon           &  36                  &  30                  & 0.83333333          \\\\\n",
       "\t IFIT1                & ENSG00000185745      & NODE\\_2111          & 252                  & Interferon           &  36                  &  30                  & 0.83333333          \\\\\n",
       "\t IFI35                & ENSG00000068079      & NODE\\_2111          & 252                  & Interferon           &  36                  &  30                  & 0.83333333          \\\\\n",
       "\t CCNB2                & ENSG00000157456      & NODE\\_10236         & 168                  & Proliferation        &  97                  &  77                  & 0.79381443          \\\\\n",
       "\t UBE2C                & ENSG00000175063      & NODE\\_10236         & 168                  & Proliferation        &  97                  &  77                  & 0.79381443          \\\\\n",
       "\t STK6                 & ENSG00000087586      & NODE\\_10236         & 168                  & Proliferation        &  97                  &  77                  & 0.79381443          \\\\\n",
       "\t MKI67                & ENSG00000148773      & NODE\\_10236         & 168                  & Proliferation        &  97                  &  77                  & 0.79381443          \\\\\n",
       "\t MAPT                 & ENSG00000186868      & NODE\\_9709          & 161                  & Estrogen receptor    & 120                  &  44                  & 0.36666667          \\\\\n",
       "\t ESR1                 & ENSG00000091831      & NODE\\_9709          & 161                  & Estrogen receptor    & 120                  &  44                  & 0.36666667          \\\\\n",
       "\t SCUBE2               & ENSG00000175356      & NODE\\_9709          & 161                  & Estrogen receptor    & 120                  &  44                  & 0.36666667          \\\\\n",
       "\t GRB7                 & ENSG00000141738      & NODE\\_4526          &   7                  & Chr 17               &  58                  &   6                  & 0.10344828          \\\\\n",
       "\t ERBB2                & ENSG00000141736      & NODE\\_4526          &   7                  & Chr 17               &  58                  &   6                  & 0.10344828          \\\\\n",
       "\t COL1A1               & ENSG00000108821      & NODE\\_9641          & 106                  & Stromal              & 169                  &  46                  & 0.27218935          \\\\\n",
       "\t COL5A1               & ENSG00000130635      & NODE\\_9641          & 106                  & Stromal              & 169                  &  46                  & 0.27218935          \\\\\n",
       "\t COL6A1               & ENSG00000142156      & NODE\\_9641          & 106                  & Stromal              & 169                  &  46                  & 0.27218935          \\\\\n",
       "\t FABP4                & ENSG00000170323      & NODE\\_1093          & 717                  & Normal like          & 281                  & 147                  & 0.52313167          \\\\\n",
       "\t PPARG                & ENSG00000132170      & NODE\\_887           & 160                  & Normal like          & 281                  &  29                  & 0.10320285          \\\\\n",
       "\t JUN                  & ENSG00000177606      & NODE\\_1093          & 717                  & Jun - Fos            &  56                  &  13                  & 0.23214286          \\\\\n",
       "\t FOS                  & ENSG00000170345      & NODE\\_1093          & 717                  & Jun - Fos            &  56                  &  13                  & 0.23214286          \\\\\n",
       "\t                      &                      & NODE\\_443           & 521                  & Transcription        & 104                  &   8                  & 0.07692308          \\\\\n",
       "\\end{tabular}\n"
      ],
      "text/markdown": [
       "\n",
       "Symbol | ENSG | CLEANcluster | Cluster.size | Class | Class.size | Overlap | Perc | \n",
       "|---|---|---|---|---|---|---|---|---|---|---|---|---|---|---|---|---|---|---|---|---|---|---|---|---|---|---|---|---|---|---|---|---|\n",
       "| KRT5                 | ENSG00000186081      | NODE_2984            | 119                  | Basal                | 226                  |  60                  | 0.26548673           | \n",
       "| KRT17                | ENSG00000128422      | NODE_2984            | 119                  | Basal                | 226                  |  60                  | 0.26548673           | \n",
       "| CD8A                 | ENSG00000153563      | NODE_7794            | 283                  | Cellular Immunsystem | 127                  |  54                  | 0.42519685           | \n",
       "| TRD@                 | ENSG00000211829      | NODE_7794            | 283                  | Cellular Immunsystem | 127                  |  54                  | 0.42519685           | \n",
       "| TRA@                 | ENSG00000277734      | NODE_2111            | 252                  | Cellular Immunsystem | 127                  |  48                  | 0.37795276           | \n",
       "| TRB@                 | ENSG00000211751      | NODE_2111            | 252                  | Cellular Immunsystem | 127                  |  48                  | 0.37795276           | \n",
       "| IGHM                 | ENSG00000211899      | NODE_7794            | 283                  | Humoral Immunsystem  |  38                  |   5                  | 0.13157895           | \n",
       "| IGKC                 | ENSG00000239951      | NODE_2111            | 252                  | Humoral Immunsystem  |  38                  |  19                  | 0.50000000           | \n",
       "| IGKC                 | ENSG00000242766      | NODE_2111            | 252                  | Humoral Immunsystem  |  38                  |  19                  | 0.50000000           | \n",
       "| IGHM                 | ENSG00000211949      | NODE_2111            | 252                  | Humoral Immunsystem  |  38                  |  19                  | 0.50000000           | \n",
       "| IGKC                 | ENSG00000242534      | NODE_2111            | 252                  | Humoral Immunsystem  |  38                  |  19                  | 0.50000000           | \n",
       "| IGKC                 | ENSG00000211598      | NODE_2111            | 252                  | Humoral Immunsystem  |  38                  |  19                  | 0.50000000           | \n",
       "| IGKC                 | ENSG00000242371      | NODE_2111            | 252                  | Humoral Immunsystem  |  38                  |  19                  | 0.50000000           | \n",
       "| IFI27                | ENSG00000165949      | NODE_2111            | 252                  | Interferon           |  36                  |  30                  | 0.83333333           | \n",
       "| IFIT1                | ENSG00000185745      | NODE_2111            | 252                  | Interferon           |  36                  |  30                  | 0.83333333           | \n",
       "| IFI35                | ENSG00000068079      | NODE_2111            | 252                  | Interferon           |  36                  |  30                  | 0.83333333           | \n",
       "| CCNB2                | ENSG00000157456      | NODE_10236           | 168                  | Proliferation        |  97                  |  77                  | 0.79381443           | \n",
       "| UBE2C                | ENSG00000175063      | NODE_10236           | 168                  | Proliferation        |  97                  |  77                  | 0.79381443           | \n",
       "| STK6                 | ENSG00000087586      | NODE_10236           | 168                  | Proliferation        |  97                  |  77                  | 0.79381443           | \n",
       "| MKI67                | ENSG00000148773      | NODE_10236           | 168                  | Proliferation        |  97                  |  77                  | 0.79381443           | \n",
       "| MAPT                 | ENSG00000186868      | NODE_9709            | 161                  | Estrogen receptor    | 120                  |  44                  | 0.36666667           | \n",
       "| ESR1                 | ENSG00000091831      | NODE_9709            | 161                  | Estrogen receptor    | 120                  |  44                  | 0.36666667           | \n",
       "| SCUBE2               | ENSG00000175356      | NODE_9709            | 161                  | Estrogen receptor    | 120                  |  44                  | 0.36666667           | \n",
       "| GRB7                 | ENSG00000141738      | NODE_4526            |   7                  | Chr 17               |  58                  |   6                  | 0.10344828           | \n",
       "| ERBB2                | ENSG00000141736      | NODE_4526            |   7                  | Chr 17               |  58                  |   6                  | 0.10344828           | \n",
       "| COL1A1               | ENSG00000108821      | NODE_9641            | 106                  | Stromal              | 169                  |  46                  | 0.27218935           | \n",
       "| COL5A1               | ENSG00000130635      | NODE_9641            | 106                  | Stromal              | 169                  |  46                  | 0.27218935           | \n",
       "| COL6A1               | ENSG00000142156      | NODE_9641            | 106                  | Stromal              | 169                  |  46                  | 0.27218935           | \n",
       "| FABP4                | ENSG00000170323      | NODE_1093            | 717                  | Normal like          | 281                  | 147                  | 0.52313167           | \n",
       "| PPARG                | ENSG00000132170      | NODE_887             | 160                  | Normal like          | 281                  |  29                  | 0.10320285           | \n",
       "| JUN                  | ENSG00000177606      | NODE_1093            | 717                  | Jun - Fos            |  56                  |  13                  | 0.23214286           | \n",
       "| FOS                  | ENSG00000170345      | NODE_1093            | 717                  | Jun - Fos            |  56                  |  13                  | 0.23214286           | \n",
       "|                      |                      | NODE_443             | 521                  | Transcription        | 104                  |   8                  | 0.07692308           | \n",
       "\n",
       "\n"
      ],
      "text/plain": [
       "   Symbol ENSG            CLEANcluster Cluster.size Class               \n",
       "1  KRT5   ENSG00000186081 NODE_2984    119          Basal               \n",
       "2  KRT17  ENSG00000128422 NODE_2984    119          Basal               \n",
       "3  CD8A   ENSG00000153563 NODE_7794    283          Cellular Immunsystem\n",
       "4  TRD@   ENSG00000211829 NODE_7794    283          Cellular Immunsystem\n",
       "5  TRA@   ENSG00000277734 NODE_2111    252          Cellular Immunsystem\n",
       "6  TRB@   ENSG00000211751 NODE_2111    252          Cellular Immunsystem\n",
       "7  IGHM   ENSG00000211899 NODE_7794    283          Humoral Immunsystem \n",
       "8  IGKC   ENSG00000239951 NODE_2111    252          Humoral Immunsystem \n",
       "9  IGKC   ENSG00000242766 NODE_2111    252          Humoral Immunsystem \n",
       "10 IGHM   ENSG00000211949 NODE_2111    252          Humoral Immunsystem \n",
       "11 IGKC   ENSG00000242534 NODE_2111    252          Humoral Immunsystem \n",
       "12 IGKC   ENSG00000211598 NODE_2111    252          Humoral Immunsystem \n",
       "13 IGKC   ENSG00000242371 NODE_2111    252          Humoral Immunsystem \n",
       "14 IFI27  ENSG00000165949 NODE_2111    252          Interferon          \n",
       "15 IFIT1  ENSG00000185745 NODE_2111    252          Interferon          \n",
       "16 IFI35  ENSG00000068079 NODE_2111    252          Interferon          \n",
       "17 CCNB2  ENSG00000157456 NODE_10236   168          Proliferation       \n",
       "18 UBE2C  ENSG00000175063 NODE_10236   168          Proliferation       \n",
       "19 STK6   ENSG00000087586 NODE_10236   168          Proliferation       \n",
       "20 MKI67  ENSG00000148773 NODE_10236   168          Proliferation       \n",
       "21 MAPT   ENSG00000186868 NODE_9709    161          Estrogen receptor   \n",
       "22 ESR1   ENSG00000091831 NODE_9709    161          Estrogen receptor   \n",
       "23 SCUBE2 ENSG00000175356 NODE_9709    161          Estrogen receptor   \n",
       "24 GRB7   ENSG00000141738 NODE_4526      7          Chr 17              \n",
       "25 ERBB2  ENSG00000141736 NODE_4526      7          Chr 17              \n",
       "26 COL1A1 ENSG00000108821 NODE_9641    106          Stromal             \n",
       "27 COL5A1 ENSG00000130635 NODE_9641    106          Stromal             \n",
       "28 COL6A1 ENSG00000142156 NODE_9641    106          Stromal             \n",
       "29 FABP4  ENSG00000170323 NODE_1093    717          Normal like         \n",
       "30 PPARG  ENSG00000132170 NODE_887     160          Normal like         \n",
       "31 JUN    ENSG00000177606 NODE_1093    717          Jun - Fos           \n",
       "32 FOS    ENSG00000170345 NODE_1093    717          Jun - Fos           \n",
       "33                        NODE_443     521          Transcription       \n",
       "   Class.size Overlap Perc      \n",
       "1  226         60     0.26548673\n",
       "2  226         60     0.26548673\n",
       "3  127         54     0.42519685\n",
       "4  127         54     0.42519685\n",
       "5  127         48     0.37795276\n",
       "6  127         48     0.37795276\n",
       "7   38          5     0.13157895\n",
       "8   38         19     0.50000000\n",
       "9   38         19     0.50000000\n",
       "10  38         19     0.50000000\n",
       "11  38         19     0.50000000\n",
       "12  38         19     0.50000000\n",
       "13  38         19     0.50000000\n",
       "14  36         30     0.83333333\n",
       "15  36         30     0.83333333\n",
       "16  36         30     0.83333333\n",
       "17  97         77     0.79381443\n",
       "18  97         77     0.79381443\n",
       "19  97         77     0.79381443\n",
       "20  97         77     0.79381443\n",
       "21 120         44     0.36666667\n",
       "22 120         44     0.36666667\n",
       "23 120         44     0.36666667\n",
       "24  58          6     0.10344828\n",
       "25  58          6     0.10344828\n",
       "26 169         46     0.27218935\n",
       "27 169         46     0.27218935\n",
       "28 169         46     0.27218935\n",
       "29 281        147     0.52313167\n",
       "30 281         29     0.10320285\n",
       "31  56         13     0.23214286\n",
       "32  56         13     0.23214286\n",
       "33 104          8     0.07692308"
      ]
     },
     "metadata": {},
     "output_type": "display_data"
    }
   ],
   "source": [
    "candidates = candidates %>% arrange(Class)\n",
    "candidates\n",
    "#print(xtable(candidates, type=\"latex\"))"
   ]
  },
  {
   "cell_type": "markdown",
   "metadata": {},
   "source": [
    "Where GSE11121 notes CCNE1 as Unclassified, in VisHiC2, CCNE1 (ENSG00000105173) is in the Proliferation cluster and it has been noted also as a marker gene."
   ]
  },
  {
   "cell_type": "code",
   "execution_count": 329,
   "metadata": {
    "collapsed": false
   },
   "outputs": [
    {
     "data": {
      "text/html": [
       "<table>\n",
       "<thead><tr><th></th><th scope=col>Probe</th><th scope=col>Class</th><th scope=col>Symbol</th><th scope=col>Loc</th><th scope=col>Title</th><th scope=col>target</th></tr></thead>\n",
       "<tbody>\n",
       "\t<tr><th scope=row>1724</th><td>213523_at      </td><td>Unclassified   </td><td>CCNE1          </td><td>Chr:19q12      </td><td>cyclin E1      </td><td>ENSG00000105173</td></tr>\n",
       "</tbody>\n",
       "</table>\n"
      ],
      "text/latex": [
       "\\begin{tabular}{r|llllll}\n",
       "  & Probe & Class & Symbol & Loc & Title & target\\\\\n",
       "\\hline\n",
       "\t1724 & 213523\\_at     & Unclassified    & CCNE1           & Chr:19q12       & cyclin E1       & ENSG00000105173\\\\\n",
       "\\end{tabular}\n"
      ],
      "text/markdown": [
       "\n",
       "| <!--/--> | Probe | Class | Symbol | Loc | Title | target | \n",
       "|---|\n",
       "| 1724 | 213523_at       | Unclassified    | CCNE1           | Chr:19q12       | cyclin E1       | ENSG00000105173 | \n",
       "\n",
       "\n"
      ],
      "text/plain": [
       "     Probe     Class        Symbol Loc       Title     target         \n",
       "1724 213523_at Unclassified CCNE1  Chr:19q12 cyclin E1 ENSG00000105173"
      ]
     },
     "metadata": {},
     "output_type": "display_data"
    }
   ],
   "source": [
    "GSE11121_na[GSE11121_na$target==\"ENSG00000105173\",]"
   ]
  },
  {
   "cell_type": "code",
   "execution_count": 235,
   "metadata": {
    "collapsed": false
   },
   "outputs": [
    {
     "data": {
      "text/html": [
       "<table>\n",
       "<thead><tr><th></th><th scope=col>Probe</th><th scope=col>Class</th><th scope=col>Symbol</th><th scope=col>Loc</th><th scope=col>Title</th><th scope=col>target</th></tr></thead>\n",
       "<tbody>\n",
       "\t<tr><th scope=row>372</th><td>203685_at            </td><td>Estrogen receptor    </td><td>BCL2                 </td><td>Chr:18q21.3          </td><td>B-cell CLL/lymphoma 2</td><td>ENSG00000171791      </td></tr>\n",
       "</tbody>\n",
       "</table>\n"
      ],
      "text/latex": [
       "\\begin{tabular}{r|llllll}\n",
       "  & Probe & Class & Symbol & Loc & Title & target\\\\\n",
       "\\hline\n",
       "\t372 & 203685\\_at           & Estrogen receptor     & BCL2                  & Chr:18q21.3           & B-cell CLL/lymphoma 2 & ENSG00000171791      \\\\\n",
       "\\end{tabular}\n"
      ],
      "text/markdown": [
       "\n",
       "| <!--/--> | Probe | Class | Symbol | Loc | Title | target | \n",
       "|---|\n",
       "| 372 | 203685_at             | Estrogen receptor     | BCL2                  | Chr:18q21.3           | B-cell CLL/lymphoma 2 | ENSG00000171791       | \n",
       "\n",
       "\n"
      ],
      "text/plain": [
       "    Probe     Class             Symbol Loc         Title                \n",
       "372 203685_at Estrogen receptor BCL2   Chr:18q21.3 B-cell CLL/lymphoma 2\n",
       "    target         \n",
       "372 ENSG00000171791"
      ]
     },
     "metadata": {},
     "output_type": "display_data"
    }
   ],
   "source": [
    "GSE11121_na[GSE11121_na$Symbol==\"BCL2\",]"
   ]
  },
  {
   "cell_type": "code",
   "execution_count": 239,
   "metadata": {
    "collapsed": false
   },
   "outputs": [
    {
     "data": {
      "text/html": [
       "<table>\n",
       "<thead><tr><th></th><th scope=col>Probe</th><th scope=col>Class</th><th scope=col>Symbol</th><th scope=col>Loc</th><th scope=col>Title</th><th scope=col>target</th></tr></thead>\n",
       "<tbody>\n",
       "\t<tr><th scope=row>1365</th><td>210046_s_at                                      </td><td>Unclassified                                     </td><td>IDH2                                             </td><td>Chr:15q26.1                                      </td><td>isocitrate dehydrogenase 2 (NADP+), mitochondrial</td><td>ENSG00000182054                                  </td></tr>\n",
       "</tbody>\n",
       "</table>\n"
      ],
      "text/latex": [
       "\\begin{tabular}{r|llllll}\n",
       "  & Probe & Class & Symbol & Loc & Title & target\\\\\n",
       "\\hline\n",
       "\t1365 & 210046\\_s\\_at                                   & Unclassified                                      & IDH2                                              & Chr:15q26.1                                       & isocitrate dehydrogenase 2 (NADP+), mitochondrial & ENSG00000182054                                  \\\\\n",
       "\\end{tabular}\n"
      ],
      "text/markdown": [
       "\n",
       "| <!--/--> | Probe | Class | Symbol | Loc | Title | target | \n",
       "|---|\n",
       "| 1365 | 210046_s_at                                       | Unclassified                                      | IDH2                                              | Chr:15q26.1                                       | isocitrate dehydrogenase 2 (NADP+), mitochondrial | ENSG00000182054                                   | \n",
       "\n",
       "\n"
      ],
      "text/plain": [
       "     Probe       Class        Symbol Loc        \n",
       "1365 210046_s_at Unclassified IDH2   Chr:15q26.1\n",
       "     Title                                             target         \n",
       "1365 isocitrate dehydrogenase 2 (NADP+), mitochondrial ENSG00000182054"
      ]
     },
     "metadata": {},
     "output_type": "display_data"
    }
   ],
   "source": [
    "GSE11121_na[GSE11121_na$Symbol==\"IDH2\",]"
   ]
  },
  {
   "cell_type": "code",
   "execution_count": 303,
   "metadata": {
    "collapsed": false
   },
   "outputs": [
    {
     "data": {
      "text/html": [
       "<table>\n",
       "<thead><tr><th></th><th scope=col>Probe</th><th scope=col>Class</th><th scope=col>Symbol</th><th scope=col>Loc</th><th scope=col>Title</th><th scope=col>target</th></tr></thead>\n",
       "<tbody>\n",
       "\t<tr><th scope=row>NA</th><td>NA</td><td>NA</td><td>NA</td><td>NA</td><td>NA</td><td>NA</td></tr>\n",
       "</tbody>\n",
       "</table>\n"
      ],
      "text/latex": [
       "\\begin{tabular}{r|llllll}\n",
       "  & Probe & Class & Symbol & Loc & Title & target\\\\\n",
       "\\hline\n",
       "\tNA & NA & NA & NA & NA & NA & NA\\\\\n",
       "\\end{tabular}\n"
      ],
      "text/markdown": [
       "\n",
       "| <!--/--> | Probe | Class | Symbol | Loc | Title | target | \n",
       "|---|\n",
       "| NA | NA | NA | NA | NA | NA | NA | \n",
       "\n",
       "\n"
      ],
      "text/plain": [
       "   Probe Class Symbol Loc Title target\n",
       "NA NA    NA    NA     NA  NA    NA    "
      ]
     },
     "metadata": {},
     "output_type": "display_data"
    }
   ],
   "source": [
    "GSE11121_na[GSE11121_na$Symbol==\"PLK1\",]"
   ]
  },
  {
   "cell_type": "code",
   "execution_count": 304,
   "metadata": {
    "collapsed": false
   },
   "outputs": [
    {
     "name": "stdout",
     "output_type": "stream",
     "text": [
      "[1] \"NODE_10236\"\n"
     ]
    }
   ],
   "source": [
    "for(cl in names(clusters)){if(\"ENSG00000166851\" %in% clusters[[cl]] & cl %in% best){print(cl)}}"
   ]
  },
  {
   "cell_type": "markdown",
   "metadata": {},
   "source": [
    "### Comparing functions"
   ]
  },
  {
   "cell_type": "markdown",
   "metadata": {},
   "source": [
    "What are the describing functions in the CLEANtotal results?"
   ]
  },
  {
   "cell_type": "code",
   "execution_count": 330,
   "metadata": {
    "collapsed": true
   },
   "outputs": [],
   "source": [
    "gp.tot.filt %>% filter(query.number %in% candidates$CLEANcluster) %>% select(query.number, term.id, term.name, p.value, F1, term.size, size) -> comp_clusters"
   ]
  },
  {
   "cell_type": "code",
   "execution_count": 331,
   "metadata": {
    "collapsed": false
   },
   "outputs": [],
   "source": [
    "prolif = GSE11121_na[GSE11121_na$Class==\"Proliferation\", ][[\"target\"]]\n",
    "stromal = GSE11121_na[GSE11121_na$Class==\"Stromal\", ][[\"target\"]]\n",
    "normal = GSE11121_na[GSE11121_na$Class==\"Normal like\", ][[\"target\"]]\n",
    "cellular = GSE11121_na[GSE11121_na$Class==\"Cellular Immunsystem\", ][[\"target\"]]\n",
    "humoral = GSE11121_na[GSE11121_na$Class==\"Humoral Immunsystem\", ][[\"target\"]]\n",
    "interferon = GSE11121_na[GSE11121_na$Class==\"Interferon\", ][[\"target\"]]\n",
    "junfos = GSE11121_na[GSE11121_na$Class==\"Jun - Fos\", ][[\"target\"]]\n",
    "basal = GSE11121_na[GSE11121_na$Class==\"Basal\", ][[\"target\"]]\n",
    "er = GSE11121_na[GSE11121_na$Class==\"Estrogen receptor\", ][[\"target\"]]\n",
    "chr17 = GSE11121_na[GSE11121_na$Class==\"Chr 17\", ][[\"target\"]]\n",
    "transcr = GSE11121_na[GSE11121_na$Class==\"Transcription\", ][[\"target\"]]\n",
    "\n",
    "gl = list(Proliferation = list(clusters[[\"NODE_10236\"]], prolif), \n",
    "          Stromal = list(clusters[[\"NODE_9641\"]], stromal), \n",
    "        Normal1 = list(clusters[[\"NODE_1093\"]], normal),\n",
    "          Normal2 = list(clusters[[\"NODE_887\"]], normal),\n",
    "         \"Cellular Immunsystem1\" = list(clusters[[\"NODE_7794\"]], cellular),\n",
    "         \"Cellular Immunsystem2\" = list(clusters[[\"NODE_2111\"]], cellular),\n",
    "          \"Humoral Immunsystem1\" = list(clusters[[\"NODE_7794\"]], humoral),\n",
    "         \"Humoral Immunsystem2\" = list(clusters[[\"NODE_2111\"]], humoral),\n",
    "          Interferon = list(clusters[[\"NODE_2111\"]], interferon)\n",
    "         )\n",
    "gl1 = list(\"Jun-Fos\" = list(clusters[[\"NODE_1093\"]], junfos),\n",
    "         Basal = list(clusters[[\"NODE_2984\"]], basal),\n",
    "         \"Estrogen receptor\" = list(clusters[[\"NODE_9709\"]], er),\n",
    "         \"Chr 17\" = list(clusters[[\"NODE_4526\"]], chr17), \n",
    "         Transcription = list(clusters[[\"NODE_443\"]], transcr))\n",
    "\n",
    "gl2 = list(Proliferation = list(clusters[[\"NODE_10236\"]], prolif), \n",
    "          Stromal = list(clusters[[\"NODE_9641\"]], stromal), \n",
    "        Normal1 = list(clusters[[\"NODE_1093\"]], normal),\n",
    "          Normal2 = list(clusters[[\"NODE_887\"]], normal),\n",
    "         \"Cellular Immunsystem\" = list(clusters[[\"NODE_7794\"]], cellular),\n",
    "         \"Humoral Immunsystem\" = list(clusters[[\"NODE_2111\"]], humoral),\n",
    "          Interferon = list(clusters[[\"NODE_2111\"]], interferon)\n",
    "         )\n",
    "gl3 = list(\"Jun-Fos\" = list(clusters[[\"NODE_1093\"]], junfos),\n",
    "         Basal = list(clusters[[\"NODE_2984\"]], basal),\n",
    "         \"Estrogen receptor\" = list(clusters[[\"NODE_9709\"]], er),\n",
    "         \"Chr 17\" = list(clusters[[\"NODE_4526\"]], chr17),\n",
    "          Transcription = list(clusters[[\"NODE_443\"]], transcr))\n",
    "gs = gosummaries(gl, go_branches = c(\"BP\", \"MF\", \"CC\"), ordered_query = FALSE, min_set_size = 5, max_set_size=700, max_p_value = 0.05, exclude_iea = T)\n",
    "gs1 = gosummaries(gl1, go_branches = c(\"BP\", \"MF\", \"CC\"), ordered_query = FALSE, min_set_size = 5, max_set_size=700, max_p_value = 0.05, exclude_iea = T)\n",
    "gs2 = gosummaries(gl2, go_branches = c(\"BP\", \"MF\", \"CC\"), ordered_query = FALSE, min_set_size = 5, max_set_siz=700, max_p_value = 0.05, exclude_iea = T)\n",
    "gs3 = gosummaries(gl3, go_branches = c(\"BP\", \"MF\", \"CC\"), ordered_query = FALSE, min_set_size = 5, max_set_siz=700, max_p_value = 0.05, exclude_iea = T)\n"
   ]
  },
  {
   "cell_type": "code",
   "execution_count": 333,
   "metadata": {
    "collapsed": false
   },
   "outputs": [],
   "source": [
    "darkcols <- brewer.pal(8, \"Dark2\")\n",
    "cols = sample(darkcols, 2)\n",
    "cust = function(p, par){\n",
    "         p = p + scale_fill_manual(values=cols)\n",
    " return(p)\n",
    "}\n",
    "suppressMessages(plot(gs, fontsize=8, filename = \"GSE11121_comparison1.pdf\", panel_customize = cust))\n",
    "suppressMessages(plot(gs1, fontsize=8, filename = \"GSE11121_comparison11.pdf\", panel_customize = cust))"
   ]
  },
  {
   "cell_type": "code",
   "execution_count": 334,
   "metadata": {
    "collapsed": false
   },
   "outputs": [],
   "source": [
    "suppressMessages(plot(gs2, fontsize=8, filename = \"GSE11121_comparison2.pdf\", panel_customize = cust))\n",
    "suppressMessages(plot(gs3, fontsize=8, filename = \"GSE11121_comparison22.pdf\", panel_customize = cust))"
   ]
  },
  {
   "cell_type": "markdown",
   "metadata": {},
   "source": [
    "## Correpsonding clusters"
   ]
  },
  {
   "cell_type": "code",
   "execution_count": 233,
   "metadata": {
    "collapsed": false
   },
   "outputs": [
    {
     "data": {
      "text/html": [
       "<table>\n",
       "<thead><tr><th scope=col>Class</th><th scope=col>Class size</th><th scope=col>CLEANcluster</th><th scope=col>Cluster size</th><th scope=col>Overlap</th><th scope=col>Perc</th></tr></thead>\n",
       "<tbody>\n",
       "\t<tr><td>Proliferation       </td><td> 97                 </td><td>NODE_10236          </td><td>168                 </td><td> 77                 </td><td>0.7938144           </td></tr>\n",
       "\t<tr><td>Cellular Immunsystem</td><td>127                 </td><td>NODE_7794           </td><td>283                 </td><td> 54                 </td><td>0.4251969           </td></tr>\n",
       "\t<tr><td>Humoral Immunsystem </td><td> 38                 </td><td>NODE_7794           </td><td>283                 </td><td>  5                 </td><td>0.1315789           </td></tr>\n",
       "\t<tr><td>Stromal             </td><td>169                 </td><td>NODE_9641           </td><td>106                 </td><td> 46                 </td><td>0.2721893           </td></tr>\n",
       "\t<tr><td>Interferon          </td><td> 36                 </td><td>NODE_2111           </td><td>252                 </td><td> 30                 </td><td>0.8333333           </td></tr>\n",
       "\t<tr><td>Cellular Immunsystem</td><td>127                 </td><td>NODE_2111           </td><td>252                 </td><td> 48                 </td><td>0.3779528           </td></tr>\n",
       "\t<tr><td>Humoral Immunsystem </td><td> 38                 </td><td>NODE_2111           </td><td>252                 </td><td> 19                 </td><td>0.5000000           </td></tr>\n",
       "\t<tr><td>Jun - Fos           </td><td> 56                 </td><td>NODE_1093           </td><td>717                 </td><td> 13                 </td><td>0.2321429           </td></tr>\n",
       "\t<tr><td>Normal like         </td><td>281                 </td><td>NODE_1093           </td><td>717                 </td><td>147                 </td><td>0.5231317           </td></tr>\n",
       "\t<tr><td>Normal like         </td><td>281                 </td><td>NODE_887            </td><td>160                 </td><td> 29                 </td><td>0.1032028           </td></tr>\n",
       "\t<tr><td>Basal               </td><td>226                 </td><td>NODE_2984           </td><td>119                 </td><td> 60                 </td><td>0.2654867           </td></tr>\n",
       "\t<tr><td>Estrogen receptor   </td><td>120                 </td><td>NODE_9709           </td><td>161                 </td><td> 44                 </td><td>0.3666667           </td></tr>\n",
       "\t<tr><td>Chr 17              </td><td> 58                 </td><td>NODE_4526           </td><td>  7                 </td><td>  6                 </td><td>0.1034483           </td></tr>\n",
       "</tbody>\n",
       "</table>\n"
      ],
      "text/latex": [
       "\\begin{tabular}{r|llllll}\n",
       " Class & Class size & CLEANcluster & Cluster size & Overlap & Perc\\\\\n",
       "\\hline\n",
       "\t Proliferation        &  97                  & NODE\\_10236         & 168                  &  77                  & 0.7938144           \\\\\n",
       "\t Cellular Immunsystem & 127                  & NODE\\_7794          & 283                  &  54                  & 0.4251969           \\\\\n",
       "\t Humoral Immunsystem  &  38                  & NODE\\_7794          & 283                  &   5                  & 0.1315789           \\\\\n",
       "\t Stromal              & 169                  & NODE\\_9641          & 106                  &  46                  & 0.2721893           \\\\\n",
       "\t Interferon           &  36                  & NODE\\_2111          & 252                  &  30                  & 0.8333333           \\\\\n",
       "\t Cellular Immunsystem & 127                  & NODE\\_2111          & 252                  &  48                  & 0.3779528           \\\\\n",
       "\t Humoral Immunsystem  &  38                  & NODE\\_2111          & 252                  &  19                  & 0.5000000           \\\\\n",
       "\t Jun - Fos            &  56                  & NODE\\_1093          & 717                  &  13                  & 0.2321429           \\\\\n",
       "\t Normal like          & 281                  & NODE\\_1093          & 717                  & 147                  & 0.5231317           \\\\\n",
       "\t Normal like          & 281                  & NODE\\_887           & 160                  &  29                  & 0.1032028           \\\\\n",
       "\t Basal                & 226                  & NODE\\_2984          & 119                  &  60                  & 0.2654867           \\\\\n",
       "\t Estrogen receptor    & 120                  & NODE\\_9709          & 161                  &  44                  & 0.3666667           \\\\\n",
       "\t Chr 17               &  58                  & NODE\\_4526          &   7                  &   6                  & 0.1034483           \\\\\n",
       "\\end{tabular}\n"
      ],
      "text/markdown": [
       "\n",
       "Class | Class size | CLEANcluster | Cluster size | Overlap | Perc | \n",
       "|---|---|---|---|---|---|---|---|---|---|---|---|---|\n",
       "| Proliferation        |  97                  | NODE_10236           | 168                  |  77                  | 0.7938144            | \n",
       "| Cellular Immunsystem | 127                  | NODE_7794            | 283                  |  54                  | 0.4251969            | \n",
       "| Humoral Immunsystem  |  38                  | NODE_7794            | 283                  |   5                  | 0.1315789            | \n",
       "| Stromal              | 169                  | NODE_9641            | 106                  |  46                  | 0.2721893            | \n",
       "| Interferon           |  36                  | NODE_2111            | 252                  |  30                  | 0.8333333            | \n",
       "| Cellular Immunsystem | 127                  | NODE_2111            | 252                  |  48                  | 0.3779528            | \n",
       "| Humoral Immunsystem  |  38                  | NODE_2111            | 252                  |  19                  | 0.5000000            | \n",
       "| Jun - Fos            |  56                  | NODE_1093            | 717                  |  13                  | 0.2321429            | \n",
       "| Normal like          | 281                  | NODE_1093            | 717                  | 147                  | 0.5231317            | \n",
       "| Normal like          | 281                  | NODE_887             | 160                  |  29                  | 0.1032028            | \n",
       "| Basal                | 226                  | NODE_2984            | 119                  |  60                  | 0.2654867            | \n",
       "| Estrogen receptor    | 120                  | NODE_9709            | 161                  |  44                  | 0.3666667            | \n",
       "| Chr 17               |  58                  | NODE_4526            |   7                  |   6                  | 0.1034483            | \n",
       "\n",
       "\n"
      ],
      "text/plain": [
       "   Class                Class size CLEANcluster Cluster size Overlap Perc     \n",
       "1  Proliferation         97        NODE_10236   168           77     0.7938144\n",
       "2  Cellular Immunsystem 127        NODE_7794    283           54     0.4251969\n",
       "3  Humoral Immunsystem   38        NODE_7794    283            5     0.1315789\n",
       "4  Stromal              169        NODE_9641    106           46     0.2721893\n",
       "5  Interferon            36        NODE_2111    252           30     0.8333333\n",
       "6  Cellular Immunsystem 127        NODE_2111    252           48     0.3779528\n",
       "7  Humoral Immunsystem   38        NODE_2111    252           19     0.5000000\n",
       "8  Jun - Fos             56        NODE_1093    717           13     0.2321429\n",
       "9  Normal like          281        NODE_1093    717          147     0.5231317\n",
       "10 Normal like          281        NODE_887     160           29     0.1032028\n",
       "11 Basal                226        NODE_2984    119           60     0.2654867\n",
       "12 Estrogen receptor    120        NODE_9709    161           44     0.3666667\n",
       "13 Chr 17                58        NODE_4526      7            6     0.1034483"
      ]
     },
     "metadata": {},
     "output_type": "display_data"
    }
   ],
   "source": [
    "c = unique(candidates[,c(\"Class\",\"Class size\", \"CLEANcluster\", \"Cluster size\", \"Overlap\", \"Perc\")])\n",
    "row.names(c) = NULL\n",
    "c"
   ]
  },
  {
   "cell_type": "markdown",
   "metadata": {},
   "source": [
    "## Functions that define the clusters in VisHiC2"
   ]
  },
  {
   "cell_type": "markdown",
   "metadata": {},
   "source": [
    "The functions larger than 700 genes are excluded."
   ]
  },
  {
   "cell_type": "code",
   "execution_count": 298,
   "metadata": {
    "collapsed": false
   },
   "outputs": [
    {
     "data": {
      "text/html": [
       "<table>\n",
       "<thead><tr><th scope=col>query.number</th><th scope=col>domain</th><th scope=col>term.id</th><th scope=col>term.name</th><th scope=col>p.value</th><th scope=col>log10</th><th scope=col>term.size</th><th scope=col>overlap.size</th><th scope=col>size</th></tr></thead>\n",
       "<tbody>\n",
       "\t<tr><td>NODE_10236                                                 </td><td>BP                                                         </td><td>GO:0007059                                                 </td><td>chromosome segregation                                     </td><td>2.10e-59                                                   </td><td>58.677781                                                  </td><td>284                                                        </td><td>58                                                         </td><td>168                                                        </td></tr>\n",
       "\t<tr><td>NODE_3309                                                  </td><td>CC                                                         </td><td>GO:0022626                                                 </td><td>cytosolic ribosome                                         </td><td>3.06e-48                                                   </td><td>47.514279                                                  </td><td>111                                                        </td><td>25                                                         </td><td> 80                                                        </td></tr>\n",
       "\t<tr><td>NODE_7794                                                  </td><td>BP                                                         </td><td>GO:0046649                                                 </td><td>lymphocyte activation                                      </td><td>2.28e-46                                                   </td><td>45.642065                                                  </td><td>459                                                        </td><td>69                                                         </td><td>283                                                        </td></tr>\n",
       "\t<tr><td>NODE_9641                                                  </td><td>BP                                                         </td><td>GO:0030198                                                 </td><td>extracellular matrix organization                          </td><td>3.23e-46                                                   </td><td>45.490797                                                  </td><td>244                                                        </td><td>41                                                         </td><td>106                                                        </td></tr>\n",
       "\t<tr><td>NODE_2111                                                  </td><td>BP                                                         </td><td>GO:0043207                                                 </td><td>response to external biotic stimulus                       </td><td>1.79e-40                                                   </td><td>39.747147                                                  </td><td>563                                                        </td><td>66                                                         </td><td>252                                                        </td></tr>\n",
       "\t<tr><td>NODE_12390                                                 </td><td>MF                                                         </td><td>GO:0004930                                                 </td><td>G-protein coupled receptor activity                        </td><td>5.37e-30                                                   </td><td>29.270026                                                  </td><td>357                                                        </td><td>77                                                         </td><td>900                                                        </td></tr>\n",
       "\t<tr><td>NODE_7324                                                  </td><td>CC                                                         </td><td>GO:0044449                                                 </td><td>contractile fiber part                                     </td><td>1.26e-22                                                   </td><td>21.899629                                                  </td><td>129                                                        </td><td>13                                                         </td><td> 16                                                        </td></tr>\n",
       "\t<tr><td>NODE_1093                                                  </td><td>BP                                                         </td><td>GO:0072359                                                 </td><td>circulatory system development                             </td><td>1.21e-21                                                   </td><td>20.917215                                                  </td><td>568                                                        </td><td>81                                                         </td><td>717                                                        </td></tr>\n",
       "\t<tr><td>NODE_2874                                                  </td><td>CC                                                         </td><td>GO:0005743                                                 </td><td>mitochondrial inner membrane                               </td><td>1.02e-19                                                   </td><td>18.991400                                                  </td><td>384                                                        </td><td>53                                                         </td><td>509                                                        </td></tr>\n",
       "\t<tr><td>NODE_940                                                   </td><td>BP                                                         </td><td>GO:0034470                                                 </td><td>ncRNA processing                                           </td><td>1.24e-14                                                   </td><td>13.906578                                                  </td><td>342                                                        </td><td>27                                                         </td><td>177                                                        </td></tr>\n",
       "\t<tr><td>NODE_592                                                   </td><td>CC                                                         </td><td>GO:0005789                                                 </td><td>endoplasmic reticulum membrane                             </td><td>2.46e-14                                                   </td><td>13.609065                                                  </td><td>696                                                        </td><td>42                                                         </td><td>247                                                        </td></tr>\n",
       "\t<tr><td>NODE_780                                                   </td><td>CC                                                         </td><td>GO:0030529                                                 </td><td>intracellular ribonucleoprotein complex                    </td><td>3.79e-13                                                   </td><td>12.421361                                                  </td><td>700                                                        </td><td>63                                                         </td><td>538                                                        </td></tr>\n",
       "\t<tr><td>NODE_1623                                                  </td><td>CC                                                         </td><td>GO:0000785                                                 </td><td>chromatin                                                  </td><td>5.93e-13                                                   </td><td>12.226945                                                  </td><td>395                                                        </td><td>10                                                         </td><td> 11                                                        </td></tr>\n",
       "\t<tr><td>NODE_443                                                   </td><td>CC                                                         </td><td>GO:0016604                                                 </td><td>nuclear body                                               </td><td>1.81e-11                                                   </td><td>10.742321                                                  </td><td>597                                                        </td><td>54                                                         </td><td>521                                                        </td></tr>\n",
       "\t<tr><td>NODE_7652                                                  </td><td>CC                                                         </td><td>GO:0015629                                                 </td><td>actin cytoskeleton                                         </td><td>4.09e-11                                                   </td><td>10.388277                                                  </td><td>348                                                        </td><td> 9                                                         </td><td> 11                                                        </td></tr>\n",
       "\t<tr><td>NODE_1197                                                  </td><td>BP                                                         </td><td>GO:0006334                                                 </td><td>nucleosome assembly                                        </td><td>7.65e-11                                                   </td><td>10.116339                                                  </td><td>112                                                        </td><td> 6                                                         </td><td>  6                                                        </td></tr>\n",
       "\t<tr><td>NODE_887                                                   </td><td>BP                                                         </td><td>GO:0072359                                                 </td><td>circulatory system development                             </td><td>1.12e-09                                                   </td><td> 8.950782                                                  </td><td>568                                                        </td><td>27                                                         </td><td>160                                                        </td></tr>\n",
       "\t<tr><td>NODE_11810                                                 </td><td>CC                                                         </td><td>GO:0048770                                                 </td><td>pigment granule                                            </td><td>9.49e-09                                                   </td><td> 8.022734                                                  </td><td> 22                                                        </td><td> 4                                                         </td><td>  5                                                        </td></tr>\n",
       "\t<tr><td>NODE_6640                                                  </td><td>CC                                                         </td><td>GO:0022626                                                 </td><td>cytosolic ribosome                                         </td><td>9.73e-09                                                   </td><td> 8.011887                                                  </td><td>111                                                        </td><td> 5                                                         </td><td> 21                                                        </td></tr>\n",
       "\t<tr><td>NODE_2984                                                  </td><td>BP                                                         </td><td>GO:0070268                                                 </td><td>cornification                                              </td><td>1.00e-08                                                   </td><td> 8.000000                                                  </td><td>107                                                        </td><td>12                                                         </td><td>119                                                        </td></tr>\n",
       "\t<tr><td>NODE_10940                                                 </td><td>MF                                                         </td><td>GO:0046873                                                 </td><td>metal ion transmembrane transporter activity               </td><td>3.31e-08                                                   </td><td> 7.480172                                                  </td><td>392                                                        </td><td>23                                                         </td><td>215                                                        </td></tr>\n",
       "\t<tr><td>NODE_312                                                   </td><td>BP                                                         </td><td>GO:0006614                                                 </td><td>SRP-dependent cotranslational protein targeting to membrane</td><td>1.00e-07                                                   </td><td> 7.000000                                                  </td><td> 92                                                        </td><td> 5                                                         </td><td> 21                                                        </td></tr>\n",
       "\t<tr><td>NODE_10741                                                 </td><td>MF                                                         </td><td>GO:0003714                                                 </td><td>transcription corepressor activity                         </td><td>1.69e-07                                                   </td><td> 6.772113                                                  </td><td>195                                                        </td><td> 5                                                         </td><td>  5                                                        </td></tr>\n",
       "\t<tr><td>NODE_4486                                                  </td><td>MF                                                         </td><td>GO:0003840                                                 </td><td>obsolete gamma-glutamyltransferase activity                </td><td>2.13e-07                                                   </td><td> 6.671620                                                  </td><td>  8                                                        </td><td> 3                                                         </td><td>  5                                                        </td></tr>\n",
       "\t<tr><td>NODE_4216                                                  </td><td>BP                                                         </td><td>GO:0042178                                                 </td><td>xenobiotic catabolic process                               </td><td>2.22e-07                                                   </td><td> 6.653647                                                  </td><td>  6                                                        </td><td> 3                                                         </td><td>  5                                                        </td></tr>\n",
       "\t<tr><td>NODE_4103                                                  </td><td>BP                                                         </td><td>GO:0070268                                                 </td><td>cornification                                              </td><td>6.17e-07                                                   </td><td> 6.209715                                                  </td><td>107                                                        </td><td> 5                                                         </td><td>  8                                                        </td></tr>\n",
       "\t<tr><td>NODE_8313                                                  </td><td>BP                                                         </td><td>GO:0006068                                                 </td><td>ethanol catabolic process                                  </td><td>1.75e-06                                                   </td><td> 5.756962                                                  </td><td>  7                                                        </td><td> 3                                                         </td><td>  8                                                        </td></tr>\n",
       "\t<tr><td>NODE_9351                                                  </td><td>MF                                                         </td><td>GO:0005518                                                 </td><td>collagen binding                                           </td><td>3.14e-06                                                   </td><td> 5.503070                                                  </td><td> 52                                                        </td><td> 4                                                         </td><td>  7                                                        </td></tr>\n",
       "\t<tr><td>NODE_10553                                                 </td><td>CC                                                         </td><td>GO:0000785                                                 </td><td>chromatin                                                  </td><td>5.04e-06                                                   </td><td> 5.297569                                                  </td><td>395                                                        </td><td> 6                                                         </td><td>  8                                                        </td></tr>\n",
       "\t<tr><td>NODE_2460                                                  </td><td>BP                                                         </td><td>GO:0071294                                                 </td><td>cellular response to zinc ion                              </td><td>9.69e-06                                                   </td><td> 5.013676                                                  </td><td> 14                                                        </td><td> 3                                                         </td><td>  7                                                        </td></tr>\n",
       "\t<tr><td>⋮</td><td>⋮</td><td>⋮</td><td>⋮</td><td>⋮</td><td>⋮</td><td>⋮</td><td>⋮</td><td>⋮</td></tr>\n",
       "\t<tr><td>NODE_5665                                                                           </td><td>BP                                                                                  </td><td>GO:0031936                                                                          </td><td>negative regulation of chromatin silencing                                          </td><td>0.0319                                                                              </td><td>1.496209                                                                            </td><td>  9                                                                                 </td><td>2                                                                                   </td><td> 13                                                                                 </td></tr>\n",
       "\t<tr><td>NODE_997                                                                            </td><td>MF                                                                                  </td><td>GO:0004198                                                                          </td><td>calcium-dependent cysteine-type endopeptidase activity                              </td><td>0.0324                                                                              </td><td>1.489455                                                                            </td><td> 20                                                                                 </td><td>2                                                                                   </td><td>  7                                                                                 </td></tr>\n",
       "\t<tr><td>NODE_789                                                                            </td><td>BP                                                                                  </td><td>GO:0031468                                                                          </td><td>nuclear envelope reassembly                                                         </td><td>0.0333                                                                              </td><td>1.477556                                                                            </td><td> 17                                                                                 </td><td>2                                                                                   </td><td>  8                                                                                 </td></tr>\n",
       "\t<tr><td>NODE_2096                                                                           </td><td>BP                                                                                  </td><td>GO:0000377                                                                          </td><td>RNA splicing, via transesterification reactions with bulged adenosine as nucleophile</td><td>0.0341                                                                              </td><td>1.467246                                                                            </td><td>297                                                                                 </td><td>5                                                                                   </td><td> 21                                                                                 </td></tr>\n",
       "\t<tr><td>NODE_6685                                                                           </td><td>CC                                                                                  </td><td>GO:0099572                                                                          </td><td>postsynaptic specialization                                                         </td><td>0.0350                                                                              </td><td>1.455932                                                                            </td><td> 57                                                                                 </td><td>5                                                                                   </td><td>122                                                                                 </td></tr>\n",
       "\t<tr><td>NODE_1718                                                                           </td><td>CC                                                                                  </td><td>GO:0098687                                                                          </td><td>chromosomal region                                                                  </td><td>0.0352                                                                              </td><td>1.453457                                                                            </td><td>270                                                                                 </td><td>3                                                                                   </td><td>  5                                                                                 </td></tr>\n",
       "\t<tr><td>NODE_1241                                                                           </td><td>MF                                                                                  </td><td>GO:0050660                                                                          </td><td>flavin adenine dinucleotide binding                                                 </td><td>0.0354                                                                              </td><td>1.450997                                                                            </td><td> 34                                                                                 </td><td>2                                                                                   </td><td>  5                                                                                 </td></tr>\n",
       "\t<tr><td>NODE_1788                                                                           </td><td>CC                                                                                  </td><td>GO:0031965                                                                          </td><td>nuclear membrane                                                                    </td><td>0.0362                                                                              </td><td>1.441291                                                                            </td><td>204                                                                                 </td><td>3                                                                                   </td><td>  6                                                                                 </td></tr>\n",
       "\t<tr><td>NODE_264                                                                            </td><td>BP                                                                                  </td><td>GO:0007223                                                                          </td><td>Wnt signaling pathway, calcium modulating pathway                                   </td><td>0.0365                                                                              </td><td>1.437707                                                                            </td><td> 35                                                                                 </td><td>3                                                                                   </td><td> 25                                                                                 </td></tr>\n",
       "\t<tr><td>NODE_11653                                                                          </td><td>BP                                                                                  </td><td>GO:0021543                                                                          </td><td>pallium development                                                                 </td><td>0.0366                                                                              </td><td>1.436519                                                                            </td><td> 48                                                                                 </td><td>2                                                                                   </td><td>  5                                                                                 </td></tr>\n",
       "\t<tr><td>NODE_2202                                                                           </td><td>BP                                                                                  </td><td>GO:0023061                                                                          </td><td>signal release                                                                      </td><td>0.0368                                                                              </td><td>1.434152                                                                            </td><td>274                                                                                 </td><td>3                                                                                   </td><td>  6                                                                                 </td></tr>\n",
       "\t<tr><td>NODE_2891                                                                           </td><td>CC                                                                                  </td><td>GO:0000785                                                                          </td><td>chromatin                                                                           </td><td>0.0381                                                                              </td><td>1.419075                                                                            </td><td>395                                                                                 </td><td>3                                                                                   </td><td>  6                                                                                 </td></tr>\n",
       "\t<tr><td>NODE_1530                                                                           </td><td>MF                                                                                  </td><td>GO:0005085                                                                          </td><td>guanyl-nucleotide exchange factor activity                                          </td><td>0.0384                                                                              </td><td>1.415669                                                                            </td><td>278                                                                                 </td><td>3                                                                                   </td><td>  6                                                                                 </td></tr>\n",
       "\t<tr><td>NODE_1351                                                                           </td><td>CC                                                                                  </td><td>GO:0000421                                                                          </td><td>autophagosome membrane                                                              </td><td>0.0387                                                                              </td><td>1.412289                                                                            </td><td> 16                                                                                 </td><td>2                                                                                   </td><td> 11                                                                                 </td></tr>\n",
       "\t<tr><td>NODE_3366                                                                           </td><td>BP                                                                                  </td><td>GO:0042254                                                                          </td><td>ribosome biogenesis                                                                 </td><td>0.0388                                                                              </td><td>1.411168                                                                            </td><td>279                                                                                 </td><td>3                                                                                   </td><td>  5                                                                                 </td></tr>\n",
       "\t<tr><td>NODE_2888                                                                           </td><td>BP                                                                                  </td><td>GO:0022604                                                                          </td><td>regulation of cell morphogenesis                                                    </td><td>0.0401                                                                              </td><td>1.396856                                                                            </td><td>282                                                                                 </td><td>3                                                                                   </td><td>  5                                                                                 </td></tr>\n",
       "\t<tr><td>NODE_7886                                                                           </td><td>BP                                                                                  </td><td>GO:0045165                                                                          </td><td>cell fate commitment                                                                </td><td>0.0407                                                                              </td><td>1.390406                                                                            </td><td>120                                                                                 </td><td>4                                                                                   </td><td> 31                                                                                 </td></tr>\n",
       "\t<tr><td>NODE_1017                                                                           </td><td>CC                                                                                  </td><td>GO:0031252                                                                          </td><td>cell leading edge                                                                   </td><td>0.0412                                                                              </td><td>1.385103                                                                            </td><td>213                                                                                 </td><td>3                                                                                   </td><td>  6                                                                                 </td></tr>\n",
       "\t<tr><td>NODE_1909                                                                           </td><td>BP                                                                                  </td><td>GO:0043476                                                                          </td><td>pigment accumulation                                                                </td><td>0.0412                                                                              </td><td>1.385103                                                                            </td><td> 11                                                                                 </td><td>2                                                                                   </td><td> 12                                                                                 </td></tr>\n",
       "\t<tr><td>NODE_11121                                                                          </td><td>MF                                                                                  </td><td>GO:0003682                                                                          </td><td>chromatin binding                                                                   </td><td>0.0445                                                                              </td><td>1.351640                                                                            </td><td>292                                                                                 </td><td>3                                                                                   </td><td>  5                                                                                 </td></tr>\n",
       "\t<tr><td>NODE_5281                                                                           </td><td>BP                                                                                  </td><td>GO:0072594                                                                          </td><td>establishment of protein localization to organelle                                  </td><td>0.0452                                                                              </td><td>1.344862                                                                            </td><td>572                                                                                 </td><td>8                                                                                   </td><td> 42                                                                                 </td></tr>\n",
       "\t<tr><td>NODE_5348                                                                           </td><td>MF                                                                                  </td><td>GO:0001784                                                                          </td><td>phosphotyrosine residue binding                                                     </td><td>0.0461                                                                              </td><td>1.336299                                                                            </td><td> 29                                                                                 </td><td>2                                                                                   </td><td>  6                                                                                 </td></tr>\n",
       "\t<tr><td>NODE_7632                                                                           </td><td>BP                                                                                  </td><td>GO:1901605                                                                          </td><td>alpha-amino acid metabolic process                                                  </td><td>0.0471                                                                              </td><td>1.326979                                                                            </td><td>181                                                                                 </td><td>3                                                                                   </td><td>  9                                                                                 </td></tr>\n",
       "\t<tr><td>NODE_10841                                                                          </td><td>BP                                                                                  </td><td>GO:1904429                                                                          </td><td>regulation of t-circle formation                                                    </td><td>0.0489                                                                              </td><td>1.310691                                                                            </td><td>  7                                                                                 </td><td>2                                                                                   </td><td> 22                                                                                 </td></tr>\n",
       "\t<tr><td>NODE_8337                                                                           </td><td>CC                                                                                  </td><td>GO:0044448                                                                          </td><td>cell cortex part                                                                    </td><td>0.0494                                                                              </td><td>1.306273                                                                            </td><td> 89                                                                                 </td><td>2                                                                                   </td><td>  5                                                                                 </td></tr>\n",
       "\t<tr><td>NODE_11254                                                                          </td><td>BP                                                                                  </td><td>GO:0003266                                                                          </td><td>regulation of secondary heart field cardioblast proliferation                       </td><td>0.0500                                                                              </td><td>1.301030                                                                            </td><td>  1                                                                                 </td><td>1                                                                                   </td><td>  5                                                                                 </td></tr>\n",
       "\t<tr><td>NODE_3367                                                                           </td><td>BP                                                                                  </td><td>GO:0006433                                                                          </td><td>prolyl-tRNA aminoacylation                                                          </td><td>0.0500                                                                              </td><td>1.301030                                                                            </td><td>  1                                                                                 </td><td>1                                                                                   </td><td>  5                                                                                 </td></tr>\n",
       "\t<tr><td>NODE_3906                                                                           </td><td>MF                                                                                  </td><td>GO:0031856                                                                          </td><td>parathyroid hormone receptor binding                                                </td><td>0.0500                                                                              </td><td>1.301030                                                                            </td><td>  1                                                                                 </td><td>1                                                                                   </td><td>  5                                                                                 </td></tr>\n",
       "\t<tr><td>NODE_8895                                                                           </td><td>BP                                                                                  </td><td>GO:1905168                                                                          </td><td>positive regulation of double-strand break repair via homologous recombination      </td><td>0.0500                                                                              </td><td>1.301030                                                                            </td><td>  1                                                                                 </td><td>1                                                                                   </td><td>  5                                                                                 </td></tr>\n",
       "\t<tr><td>NODE_9814                                                                           </td><td>BP                                                                                  </td><td>GO:0071929                                                                          </td><td>alpha-tubulin acetylation                                                           </td><td>0.0500                                                                              </td><td>1.301030                                                                            </td><td>  1                                                                                 </td><td>1                                                                                   </td><td>  5                                                                                 </td></tr>\n",
       "</tbody>\n",
       "</table>\n"
      ],
      "text/latex": [
       "\\begin{tabular}{r|lllllllll}\n",
       " query.number & domain & term.id & term.name & p.value & log10 & term.size & overlap.size & size\\\\\n",
       "\\hline\n",
       "\t NODE\\_10236                                                & BP                                                          & GO:0007059                                                  & chromosome segregation                                      & 2.10e-59                                                    & 58.677781                                                   & 284                                                         & 58                                                          & 168                                                        \\\\\n",
       "\t NODE\\_3309                                                 & CC                                                          & GO:0022626                                                  & cytosolic ribosome                                          & 3.06e-48                                                    & 47.514279                                                   & 111                                                         & 25                                                          &  80                                                        \\\\\n",
       "\t NODE\\_7794                                                 & BP                                                          & GO:0046649                                                  & lymphocyte activation                                       & 2.28e-46                                                    & 45.642065                                                   & 459                                                         & 69                                                          & 283                                                        \\\\\n",
       "\t NODE\\_9641                                                 & BP                                                          & GO:0030198                                                  & extracellular matrix organization                           & 3.23e-46                                                    & 45.490797                                                   & 244                                                         & 41                                                          & 106                                                        \\\\\n",
       "\t NODE\\_2111                                                 & BP                                                          & GO:0043207                                                  & response to external biotic stimulus                        & 1.79e-40                                                    & 39.747147                                                   & 563                                                         & 66                                                          & 252                                                        \\\\\n",
       "\t NODE\\_12390                                                & MF                                                          & GO:0004930                                                  & G-protein coupled receptor activity                         & 5.37e-30                                                    & 29.270026                                                   & 357                                                         & 77                                                          & 900                                                        \\\\\n",
       "\t NODE\\_7324                                                 & CC                                                          & GO:0044449                                                  & contractile fiber part                                      & 1.26e-22                                                    & 21.899629                                                   & 129                                                         & 13                                                          &  16                                                        \\\\\n",
       "\t NODE\\_1093                                                 & BP                                                          & GO:0072359                                                  & circulatory system development                              & 1.21e-21                                                    & 20.917215                                                   & 568                                                         & 81                                                          & 717                                                        \\\\\n",
       "\t NODE\\_2874                                                 & CC                                                          & GO:0005743                                                  & mitochondrial inner membrane                                & 1.02e-19                                                    & 18.991400                                                   & 384                                                         & 53                                                          & 509                                                        \\\\\n",
       "\t NODE\\_940                                                  & BP                                                          & GO:0034470                                                  & ncRNA processing                                            & 1.24e-14                                                    & 13.906578                                                   & 342                                                         & 27                                                          & 177                                                        \\\\\n",
       "\t NODE\\_592                                                  & CC                                                          & GO:0005789                                                  & endoplasmic reticulum membrane                              & 2.46e-14                                                    & 13.609065                                                   & 696                                                         & 42                                                          & 247                                                        \\\\\n",
       "\t NODE\\_780                                                  & CC                                                          & GO:0030529                                                  & intracellular ribonucleoprotein complex                     & 3.79e-13                                                    & 12.421361                                                   & 700                                                         & 63                                                          & 538                                                        \\\\\n",
       "\t NODE\\_1623                                                 & CC                                                          & GO:0000785                                                  & chromatin                                                   & 5.93e-13                                                    & 12.226945                                                   & 395                                                         & 10                                                          &  11                                                        \\\\\n",
       "\t NODE\\_443                                                  & CC                                                          & GO:0016604                                                  & nuclear body                                                & 1.81e-11                                                    & 10.742321                                                   & 597                                                         & 54                                                          & 521                                                        \\\\\n",
       "\t NODE\\_7652                                                 & CC                                                          & GO:0015629                                                  & actin cytoskeleton                                          & 4.09e-11                                                    & 10.388277                                                   & 348                                                         &  9                                                          &  11                                                        \\\\\n",
       "\t NODE\\_1197                                                 & BP                                                          & GO:0006334                                                  & nucleosome assembly                                         & 7.65e-11                                                    & 10.116339                                                   & 112                                                         &  6                                                          &   6                                                        \\\\\n",
       "\t NODE\\_887                                                  & BP                                                          & GO:0072359                                                  & circulatory system development                              & 1.12e-09                                                    &  8.950782                                                   & 568                                                         & 27                                                          & 160                                                        \\\\\n",
       "\t NODE\\_11810                                                & CC                                                          & GO:0048770                                                  & pigment granule                                             & 9.49e-09                                                    &  8.022734                                                   &  22                                                         &  4                                                          &   5                                                        \\\\\n",
       "\t NODE\\_6640                                                 & CC                                                          & GO:0022626                                                  & cytosolic ribosome                                          & 9.73e-09                                                    &  8.011887                                                   & 111                                                         &  5                                                          &  21                                                        \\\\\n",
       "\t NODE\\_2984                                                 & BP                                                          & GO:0070268                                                  & cornification                                               & 1.00e-08                                                    &  8.000000                                                   & 107                                                         & 12                                                          & 119                                                        \\\\\n",
       "\t NODE\\_10940                                                & MF                                                          & GO:0046873                                                  & metal ion transmembrane transporter activity                & 3.31e-08                                                    &  7.480172                                                   & 392                                                         & 23                                                          & 215                                                        \\\\\n",
       "\t NODE\\_312                                                  & BP                                                          & GO:0006614                                                  & SRP-dependent cotranslational protein targeting to membrane & 1.00e-07                                                    &  7.000000                                                   &  92                                                         &  5                                                          &  21                                                        \\\\\n",
       "\t NODE\\_10741                                                & MF                                                          & GO:0003714                                                  & transcription corepressor activity                          & 1.69e-07                                                    &  6.772113                                                   & 195                                                         &  5                                                          &   5                                                        \\\\\n",
       "\t NODE\\_4486                                                 & MF                                                          & GO:0003840                                                  & obsolete gamma-glutamyltransferase activity                 & 2.13e-07                                                    &  6.671620                                                   &   8                                                         &  3                                                          &   5                                                        \\\\\n",
       "\t NODE\\_4216                                                 & BP                                                          & GO:0042178                                                  & xenobiotic catabolic process                                & 2.22e-07                                                    &  6.653647                                                   &   6                                                         &  3                                                          &   5                                                        \\\\\n",
       "\t NODE\\_4103                                                 & BP                                                          & GO:0070268                                                  & cornification                                               & 6.17e-07                                                    &  6.209715                                                   & 107                                                         &  5                                                          &   8                                                        \\\\\n",
       "\t NODE\\_8313                                                 & BP                                                          & GO:0006068                                                  & ethanol catabolic process                                   & 1.75e-06                                                    &  5.756962                                                   &   7                                                         &  3                                                          &   8                                                        \\\\\n",
       "\t NODE\\_9351                                                 & MF                                                          & GO:0005518                                                  & collagen binding                                            & 3.14e-06                                                    &  5.503070                                                   &  52                                                         &  4                                                          &   7                                                        \\\\\n",
       "\t NODE\\_10553                                                & CC                                                          & GO:0000785                                                  & chromatin                                                   & 5.04e-06                                                    &  5.297569                                                   & 395                                                         &  6                                                          &   8                                                        \\\\\n",
       "\t NODE\\_2460                                                 & BP                                                          & GO:0071294                                                  & cellular response to zinc ion                               & 9.69e-06                                                    &  5.013676                                                   &  14                                                         &  3                                                          &   7                                                        \\\\\n",
       "\t ⋮ & ⋮ & ⋮ & ⋮ & ⋮ & ⋮ & ⋮ & ⋮ & ⋮\\\\\n",
       "\t NODE\\_5665                                                                          & BP                                                                                   & GO:0031936                                                                           & negative regulation of chromatin silencing                                           & 0.0319                                                                               & 1.496209                                                                             &   9                                                                                  & 2                                                                                    &  13                                                                                 \\\\\n",
       "\t NODE\\_997                                                                           & MF                                                                                   & GO:0004198                                                                           & calcium-dependent cysteine-type endopeptidase activity                               & 0.0324                                                                               & 1.489455                                                                             &  20                                                                                  & 2                                                                                    &   7                                                                                 \\\\\n",
       "\t NODE\\_789                                                                           & BP                                                                                   & GO:0031468                                                                           & nuclear envelope reassembly                                                          & 0.0333                                                                               & 1.477556                                                                             &  17                                                                                  & 2                                                                                    &   8                                                                                 \\\\\n",
       "\t NODE\\_2096                                                                          & BP                                                                                   & GO:0000377                                                                           & RNA splicing, via transesterification reactions with bulged adenosine as nucleophile & 0.0341                                                                               & 1.467246                                                                             & 297                                                                                  & 5                                                                                    &  21                                                                                 \\\\\n",
       "\t NODE\\_6685                                                                          & CC                                                                                   & GO:0099572                                                                           & postsynaptic specialization                                                          & 0.0350                                                                               & 1.455932                                                                             &  57                                                                                  & 5                                                                                    & 122                                                                                 \\\\\n",
       "\t NODE\\_1718                                                                          & CC                                                                                   & GO:0098687                                                                           & chromosomal region                                                                   & 0.0352                                                                               & 1.453457                                                                             & 270                                                                                  & 3                                                                                    &   5                                                                                 \\\\\n",
       "\t NODE\\_1241                                                                          & MF                                                                                   & GO:0050660                                                                           & flavin adenine dinucleotide binding                                                  & 0.0354                                                                               & 1.450997                                                                             &  34                                                                                  & 2                                                                                    &   5                                                                                 \\\\\n",
       "\t NODE\\_1788                                                                          & CC                                                                                   & GO:0031965                                                                           & nuclear membrane                                                                     & 0.0362                                                                               & 1.441291                                                                             & 204                                                                                  & 3                                                                                    &   6                                                                                 \\\\\n",
       "\t NODE\\_264                                                                           & BP                                                                                   & GO:0007223                                                                           & Wnt signaling pathway, calcium modulating pathway                                    & 0.0365                                                                               & 1.437707                                                                             &  35                                                                                  & 3                                                                                    &  25                                                                                 \\\\\n",
       "\t NODE\\_11653                                                                         & BP                                                                                   & GO:0021543                                                                           & pallium development                                                                  & 0.0366                                                                               & 1.436519                                                                             &  48                                                                                  & 2                                                                                    &   5                                                                                 \\\\\n",
       "\t NODE\\_2202                                                                          & BP                                                                                   & GO:0023061                                                                           & signal release                                                                       & 0.0368                                                                               & 1.434152                                                                             & 274                                                                                  & 3                                                                                    &   6                                                                                 \\\\\n",
       "\t NODE\\_2891                                                                          & CC                                                                                   & GO:0000785                                                                           & chromatin                                                                            & 0.0381                                                                               & 1.419075                                                                             & 395                                                                                  & 3                                                                                    &   6                                                                                 \\\\\n",
       "\t NODE\\_1530                                                                          & MF                                                                                   & GO:0005085                                                                           & guanyl-nucleotide exchange factor activity                                           & 0.0384                                                                               & 1.415669                                                                             & 278                                                                                  & 3                                                                                    &   6                                                                                 \\\\\n",
       "\t NODE\\_1351                                                                          & CC                                                                                   & GO:0000421                                                                           & autophagosome membrane                                                               & 0.0387                                                                               & 1.412289                                                                             &  16                                                                                  & 2                                                                                    &  11                                                                                 \\\\\n",
       "\t NODE\\_3366                                                                          & BP                                                                                   & GO:0042254                                                                           & ribosome biogenesis                                                                  & 0.0388                                                                               & 1.411168                                                                             & 279                                                                                  & 3                                                                                    &   5                                                                                 \\\\\n",
       "\t NODE\\_2888                                                                          & BP                                                                                   & GO:0022604                                                                           & regulation of cell morphogenesis                                                     & 0.0401                                                                               & 1.396856                                                                             & 282                                                                                  & 3                                                                                    &   5                                                                                 \\\\\n",
       "\t NODE\\_7886                                                                          & BP                                                                                   & GO:0045165                                                                           & cell fate commitment                                                                 & 0.0407                                                                               & 1.390406                                                                             & 120                                                                                  & 4                                                                                    &  31                                                                                 \\\\\n",
       "\t NODE\\_1017                                                                          & CC                                                                                   & GO:0031252                                                                           & cell leading edge                                                                    & 0.0412                                                                               & 1.385103                                                                             & 213                                                                                  & 3                                                                                    &   6                                                                                 \\\\\n",
       "\t NODE\\_1909                                                                          & BP                                                                                   & GO:0043476                                                                           & pigment accumulation                                                                 & 0.0412                                                                               & 1.385103                                                                             &  11                                                                                  & 2                                                                                    &  12                                                                                 \\\\\n",
       "\t NODE\\_11121                                                                         & MF                                                                                   & GO:0003682                                                                           & chromatin binding                                                                    & 0.0445                                                                               & 1.351640                                                                             & 292                                                                                  & 3                                                                                    &   5                                                                                 \\\\\n",
       "\t NODE\\_5281                                                                          & BP                                                                                   & GO:0072594                                                                           & establishment of protein localization to organelle                                   & 0.0452                                                                               & 1.344862                                                                             & 572                                                                                  & 8                                                                                    &  42                                                                                 \\\\\n",
       "\t NODE\\_5348                                                                          & MF                                                                                   & GO:0001784                                                                           & phosphotyrosine residue binding                                                      & 0.0461                                                                               & 1.336299                                                                             &  29                                                                                  & 2                                                                                    &   6                                                                                 \\\\\n",
       "\t NODE\\_7632                                                                          & BP                                                                                   & GO:1901605                                                                           & alpha-amino acid metabolic process                                                   & 0.0471                                                                               & 1.326979                                                                             & 181                                                                                  & 3                                                                                    &   9                                                                                 \\\\\n",
       "\t NODE\\_10841                                                                         & BP                                                                                   & GO:1904429                                                                           & regulation of t-circle formation                                                     & 0.0489                                                                               & 1.310691                                                                             &   7                                                                                  & 2                                                                                    &  22                                                                                 \\\\\n",
       "\t NODE\\_8337                                                                          & CC                                                                                   & GO:0044448                                                                           & cell cortex part                                                                     & 0.0494                                                                               & 1.306273                                                                             &  89                                                                                  & 2                                                                                    &   5                                                                                 \\\\\n",
       "\t NODE\\_11254                                                                         & BP                                                                                   & GO:0003266                                                                           & regulation of secondary heart field cardioblast proliferation                        & 0.0500                                                                               & 1.301030                                                                             &   1                                                                                  & 1                                                                                    &   5                                                                                 \\\\\n",
       "\t NODE\\_3367                                                                          & BP                                                                                   & GO:0006433                                                                           & prolyl-tRNA aminoacylation                                                           & 0.0500                                                                               & 1.301030                                                                             &   1                                                                                  & 1                                                                                    &   5                                                                                 \\\\\n",
       "\t NODE\\_3906                                                                          & MF                                                                                   & GO:0031856                                                                           & parathyroid hormone receptor binding                                                 & 0.0500                                                                               & 1.301030                                                                             &   1                                                                                  & 1                                                                                    &   5                                                                                 \\\\\n",
       "\t NODE\\_8895                                                                          & BP                                                                                   & GO:1905168                                                                           & positive regulation of double-strand break repair via homologous recombination       & 0.0500                                                                               & 1.301030                                                                             &   1                                                                                  & 1                                                                                    &   5                                                                                 \\\\\n",
       "\t NODE\\_9814                                                                          & BP                                                                                   & GO:0071929                                                                           & alpha-tubulin acetylation                                                            & 0.0500                                                                               & 1.301030                                                                             &   1                                                                                  & 1                                                                                    &   5                                                                                 \\\\\n",
       "\\end{tabular}\n"
      ],
      "text/markdown": [
       "\n",
       "query.number | domain | term.id | term.name | p.value | log10 | term.size | overlap.size | size | \n",
       "|---|---|---|---|---|---|---|---|---|---|---|---|---|---|---|---|---|---|---|---|---|---|---|---|---|---|---|---|---|---|---|---|---|---|---|---|---|---|---|---|---|---|---|---|---|---|---|---|---|---|---|---|---|---|---|---|---|---|---|---|---|\n",
       "| NODE_10236                                                  | BP                                                          | GO:0007059                                                  | chromosome segregation                                      | 2.10e-59                                                    | 58.677781                                                   | 284                                                         | 58                                                          | 168                                                         | \n",
       "| NODE_3309                                                   | CC                                                          | GO:0022626                                                  | cytosolic ribosome                                          | 3.06e-48                                                    | 47.514279                                                   | 111                                                         | 25                                                          |  80                                                         | \n",
       "| NODE_7794                                                   | BP                                                          | GO:0046649                                                  | lymphocyte activation                                       | 2.28e-46                                                    | 45.642065                                                   | 459                                                         | 69                                                          | 283                                                         | \n",
       "| NODE_9641                                                   | BP                                                          | GO:0030198                                                  | extracellular matrix organization                           | 3.23e-46                                                    | 45.490797                                                   | 244                                                         | 41                                                          | 106                                                         | \n",
       "| NODE_2111                                                   | BP                                                          | GO:0043207                                                  | response to external biotic stimulus                        | 1.79e-40                                                    | 39.747147                                                   | 563                                                         | 66                                                          | 252                                                         | \n",
       "| NODE_12390                                                  | MF                                                          | GO:0004930                                                  | G-protein coupled receptor activity                         | 5.37e-30                                                    | 29.270026                                                   | 357                                                         | 77                                                          | 900                                                         | \n",
       "| NODE_7324                                                   | CC                                                          | GO:0044449                                                  | contractile fiber part                                      | 1.26e-22                                                    | 21.899629                                                   | 129                                                         | 13                                                          |  16                                                         | \n",
       "| NODE_1093                                                   | BP                                                          | GO:0072359                                                  | circulatory system development                              | 1.21e-21                                                    | 20.917215                                                   | 568                                                         | 81                                                          | 717                                                         | \n",
       "| NODE_2874                                                   | CC                                                          | GO:0005743                                                  | mitochondrial inner membrane                                | 1.02e-19                                                    | 18.991400                                                   | 384                                                         | 53                                                          | 509                                                         | \n",
       "| NODE_940                                                    | BP                                                          | GO:0034470                                                  | ncRNA processing                                            | 1.24e-14                                                    | 13.906578                                                   | 342                                                         | 27                                                          | 177                                                         | \n",
       "| NODE_592                                                    | CC                                                          | GO:0005789                                                  | endoplasmic reticulum membrane                              | 2.46e-14                                                    | 13.609065                                                   | 696                                                         | 42                                                          | 247                                                         | \n",
       "| NODE_780                                                    | CC                                                          | GO:0030529                                                  | intracellular ribonucleoprotein complex                     | 3.79e-13                                                    | 12.421361                                                   | 700                                                         | 63                                                          | 538                                                         | \n",
       "| NODE_1623                                                   | CC                                                          | GO:0000785                                                  | chromatin                                                   | 5.93e-13                                                    | 12.226945                                                   | 395                                                         | 10                                                          |  11                                                         | \n",
       "| NODE_443                                                    | CC                                                          | GO:0016604                                                  | nuclear body                                                | 1.81e-11                                                    | 10.742321                                                   | 597                                                         | 54                                                          | 521                                                         | \n",
       "| NODE_7652                                                   | CC                                                          | GO:0015629                                                  | actin cytoskeleton                                          | 4.09e-11                                                    | 10.388277                                                   | 348                                                         |  9                                                          |  11                                                         | \n",
       "| NODE_1197                                                   | BP                                                          | GO:0006334                                                  | nucleosome assembly                                         | 7.65e-11                                                    | 10.116339                                                   | 112                                                         |  6                                                          |   6                                                         | \n",
       "| NODE_887                                                    | BP                                                          | GO:0072359                                                  | circulatory system development                              | 1.12e-09                                                    |  8.950782                                                   | 568                                                         | 27                                                          | 160                                                         | \n",
       "| NODE_11810                                                  | CC                                                          | GO:0048770                                                  | pigment granule                                             | 9.49e-09                                                    |  8.022734                                                   |  22                                                         |  4                                                          |   5                                                         | \n",
       "| NODE_6640                                                   | CC                                                          | GO:0022626                                                  | cytosolic ribosome                                          | 9.73e-09                                                    |  8.011887                                                   | 111                                                         |  5                                                          |  21                                                         | \n",
       "| NODE_2984                                                   | BP                                                          | GO:0070268                                                  | cornification                                               | 1.00e-08                                                    |  8.000000                                                   | 107                                                         | 12                                                          | 119                                                         | \n",
       "| NODE_10940                                                  | MF                                                          | GO:0046873                                                  | metal ion transmembrane transporter activity                | 3.31e-08                                                    |  7.480172                                                   | 392                                                         | 23                                                          | 215                                                         | \n",
       "| NODE_312                                                    | BP                                                          | GO:0006614                                                  | SRP-dependent cotranslational protein targeting to membrane | 1.00e-07                                                    |  7.000000                                                   |  92                                                         |  5                                                          |  21                                                         | \n",
       "| NODE_10741                                                  | MF                                                          | GO:0003714                                                  | transcription corepressor activity                          | 1.69e-07                                                    |  6.772113                                                   | 195                                                         |  5                                                          |   5                                                         | \n",
       "| NODE_4486                                                   | MF                                                          | GO:0003840                                                  | obsolete gamma-glutamyltransferase activity                 | 2.13e-07                                                    |  6.671620                                                   |   8                                                         |  3                                                          |   5                                                         | \n",
       "| NODE_4216                                                   | BP                                                          | GO:0042178                                                  | xenobiotic catabolic process                                | 2.22e-07                                                    |  6.653647                                                   |   6                                                         |  3                                                          |   5                                                         | \n",
       "| NODE_4103                                                   | BP                                                          | GO:0070268                                                  | cornification                                               | 6.17e-07                                                    |  6.209715                                                   | 107                                                         |  5                                                          |   8                                                         | \n",
       "| NODE_8313                                                   | BP                                                          | GO:0006068                                                  | ethanol catabolic process                                   | 1.75e-06                                                    |  5.756962                                                   |   7                                                         |  3                                                          |   8                                                         | \n",
       "| NODE_9351                                                   | MF                                                          | GO:0005518                                                  | collagen binding                                            | 3.14e-06                                                    |  5.503070                                                   |  52                                                         |  4                                                          |   7                                                         | \n",
       "| NODE_10553                                                  | CC                                                          | GO:0000785                                                  | chromatin                                                   | 5.04e-06                                                    |  5.297569                                                   | 395                                                         |  6                                                          |   8                                                         | \n",
       "| NODE_2460                                                   | BP                                                          | GO:0071294                                                  | cellular response to zinc ion                               | 9.69e-06                                                    |  5.013676                                                   |  14                                                         |  3                                                          |   7                                                         | \n",
       "| ⋮ | ⋮ | ⋮ | ⋮ | ⋮ | ⋮ | ⋮ | ⋮ | ⋮ | \n",
       "| NODE_5665                                                                            | BP                                                                                   | GO:0031936                                                                           | negative regulation of chromatin silencing                                           | 0.0319                                                                               | 1.496209                                                                             |   9                                                                                  | 2                                                                                    |  13                                                                                  | \n",
       "| NODE_997                                                                             | MF                                                                                   | GO:0004198                                                                           | calcium-dependent cysteine-type endopeptidase activity                               | 0.0324                                                                               | 1.489455                                                                             |  20                                                                                  | 2                                                                                    |   7                                                                                  | \n",
       "| NODE_789                                                                             | BP                                                                                   | GO:0031468                                                                           | nuclear envelope reassembly                                                          | 0.0333                                                                               | 1.477556                                                                             |  17                                                                                  | 2                                                                                    |   8                                                                                  | \n",
       "| NODE_2096                                                                            | BP                                                                                   | GO:0000377                                                                           | RNA splicing, via transesterification reactions with bulged adenosine as nucleophile | 0.0341                                                                               | 1.467246                                                                             | 297                                                                                  | 5                                                                                    |  21                                                                                  | \n",
       "| NODE_6685                                                                            | CC                                                                                   | GO:0099572                                                                           | postsynaptic specialization                                                          | 0.0350                                                                               | 1.455932                                                                             |  57                                                                                  | 5                                                                                    | 122                                                                                  | \n",
       "| NODE_1718                                                                            | CC                                                                                   | GO:0098687                                                                           | chromosomal region                                                                   | 0.0352                                                                               | 1.453457                                                                             | 270                                                                                  | 3                                                                                    |   5                                                                                  | \n",
       "| NODE_1241                                                                            | MF                                                                                   | GO:0050660                                                                           | flavin adenine dinucleotide binding                                                  | 0.0354                                                                               | 1.450997                                                                             |  34                                                                                  | 2                                                                                    |   5                                                                                  | \n",
       "| NODE_1788                                                                            | CC                                                                                   | GO:0031965                                                                           | nuclear membrane                                                                     | 0.0362                                                                               | 1.441291                                                                             | 204                                                                                  | 3                                                                                    |   6                                                                                  | \n",
       "| NODE_264                                                                             | BP                                                                                   | GO:0007223                                                                           | Wnt signaling pathway, calcium modulating pathway                                    | 0.0365                                                                               | 1.437707                                                                             |  35                                                                                  | 3                                                                                    |  25                                                                                  | \n",
       "| NODE_11653                                                                           | BP                                                                                   | GO:0021543                                                                           | pallium development                                                                  | 0.0366                                                                               | 1.436519                                                                             |  48                                                                                  | 2                                                                                    |   5                                                                                  | \n",
       "| NODE_2202                                                                            | BP                                                                                   | GO:0023061                                                                           | signal release                                                                       | 0.0368                                                                               | 1.434152                                                                             | 274                                                                                  | 3                                                                                    |   6                                                                                  | \n",
       "| NODE_2891                                                                            | CC                                                                                   | GO:0000785                                                                           | chromatin                                                                            | 0.0381                                                                               | 1.419075                                                                             | 395                                                                                  | 3                                                                                    |   6                                                                                  | \n",
       "| NODE_1530                                                                            | MF                                                                                   | GO:0005085                                                                           | guanyl-nucleotide exchange factor activity                                           | 0.0384                                                                               | 1.415669                                                                             | 278                                                                                  | 3                                                                                    |   6                                                                                  | \n",
       "| NODE_1351                                                                            | CC                                                                                   | GO:0000421                                                                           | autophagosome membrane                                                               | 0.0387                                                                               | 1.412289                                                                             |  16                                                                                  | 2                                                                                    |  11                                                                                  | \n",
       "| NODE_3366                                                                            | BP                                                                                   | GO:0042254                                                                           | ribosome biogenesis                                                                  | 0.0388                                                                               | 1.411168                                                                             | 279                                                                                  | 3                                                                                    |   5                                                                                  | \n",
       "| NODE_2888                                                                            | BP                                                                                   | GO:0022604                                                                           | regulation of cell morphogenesis                                                     | 0.0401                                                                               | 1.396856                                                                             | 282                                                                                  | 3                                                                                    |   5                                                                                  | \n",
       "| NODE_7886                                                                            | BP                                                                                   | GO:0045165                                                                           | cell fate commitment                                                                 | 0.0407                                                                               | 1.390406                                                                             | 120                                                                                  | 4                                                                                    |  31                                                                                  | \n",
       "| NODE_1017                                                                            | CC                                                                                   | GO:0031252                                                                           | cell leading edge                                                                    | 0.0412                                                                               | 1.385103                                                                             | 213                                                                                  | 3                                                                                    |   6                                                                                  | \n",
       "| NODE_1909                                                                            | BP                                                                                   | GO:0043476                                                                           | pigment accumulation                                                                 | 0.0412                                                                               | 1.385103                                                                             |  11                                                                                  | 2                                                                                    |  12                                                                                  | \n",
       "| NODE_11121                                                                           | MF                                                                                   | GO:0003682                                                                           | chromatin binding                                                                    | 0.0445                                                                               | 1.351640                                                                             | 292                                                                                  | 3                                                                                    |   5                                                                                  | \n",
       "| NODE_5281                                                                            | BP                                                                                   | GO:0072594                                                                           | establishment of protein localization to organelle                                   | 0.0452                                                                               | 1.344862                                                                             | 572                                                                                  | 8                                                                                    |  42                                                                                  | \n",
       "| NODE_5348                                                                            | MF                                                                                   | GO:0001784                                                                           | phosphotyrosine residue binding                                                      | 0.0461                                                                               | 1.336299                                                                             |  29                                                                                  | 2                                                                                    |   6                                                                                  | \n",
       "| NODE_7632                                                                            | BP                                                                                   | GO:1901605                                                                           | alpha-amino acid metabolic process                                                   | 0.0471                                                                               | 1.326979                                                                             | 181                                                                                  | 3                                                                                    |   9                                                                                  | \n",
       "| NODE_10841                                                                           | BP                                                                                   | GO:1904429                                                                           | regulation of t-circle formation                                                     | 0.0489                                                                               | 1.310691                                                                             |   7                                                                                  | 2                                                                                    |  22                                                                                  | \n",
       "| NODE_8337                                                                            | CC                                                                                   | GO:0044448                                                                           | cell cortex part                                                                     | 0.0494                                                                               | 1.306273                                                                             |  89                                                                                  | 2                                                                                    |   5                                                                                  | \n",
       "| NODE_11254                                                                           | BP                                                                                   | GO:0003266                                                                           | regulation of secondary heart field cardioblast proliferation                        | 0.0500                                                                               | 1.301030                                                                             |   1                                                                                  | 1                                                                                    |   5                                                                                  | \n",
       "| NODE_3367                                                                            | BP                                                                                   | GO:0006433                                                                           | prolyl-tRNA aminoacylation                                                           | 0.0500                                                                               | 1.301030                                                                             |   1                                                                                  | 1                                                                                    |   5                                                                                  | \n",
       "| NODE_3906                                                                            | MF                                                                                   | GO:0031856                                                                           | parathyroid hormone receptor binding                                                 | 0.0500                                                                               | 1.301030                                                                             |   1                                                                                  | 1                                                                                    |   5                                                                                  | \n",
       "| NODE_8895                                                                            | BP                                                                                   | GO:1905168                                                                           | positive regulation of double-strand break repair via homologous recombination       | 0.0500                                                                               | 1.301030                                                                             |   1                                                                                  | 1                                                                                    |   5                                                                                  | \n",
       "| NODE_9814                                                                            | BP                                                                                   | GO:0071929                                                                           | alpha-tubulin acetylation                                                            | 0.0500                                                                               | 1.301030                                                                             |   1                                                                                  | 1                                                                                    |   5                                                                                  | \n",
       "\n",
       "\n"
      ],
      "text/plain": [
       "    query.number domain term.id   \n",
       "1   NODE_10236   BP     GO:0007059\n",
       "2   NODE_3309    CC     GO:0022626\n",
       "3   NODE_7794    BP     GO:0046649\n",
       "4   NODE_9641    BP     GO:0030198\n",
       "5   NODE_2111    BP     GO:0043207\n",
       "6   NODE_12390   MF     GO:0004930\n",
       "7   NODE_7324    CC     GO:0044449\n",
       "8   NODE_1093    BP     GO:0072359\n",
       "9   NODE_2874    CC     GO:0005743\n",
       "10  NODE_940     BP     GO:0034470\n",
       "11  NODE_592     CC     GO:0005789\n",
       "12  NODE_780     CC     GO:0030529\n",
       "13  NODE_1623    CC     GO:0000785\n",
       "14  NODE_443     CC     GO:0016604\n",
       "15  NODE_7652    CC     GO:0015629\n",
       "16  NODE_1197    BP     GO:0006334\n",
       "17  NODE_887     BP     GO:0072359\n",
       "18  NODE_11810   CC     GO:0048770\n",
       "19  NODE_6640    CC     GO:0022626\n",
       "20  NODE_2984    BP     GO:0070268\n",
       "21  NODE_10940   MF     GO:0046873\n",
       "22  NODE_312     BP     GO:0006614\n",
       "23  NODE_10741   MF     GO:0003714\n",
       "24  NODE_4486    MF     GO:0003840\n",
       "25  NODE_4216    BP     GO:0042178\n",
       "26  NODE_4103    BP     GO:0070268\n",
       "27  NODE_8313    BP     GO:0006068\n",
       "28  NODE_9351    MF     GO:0005518\n",
       "29  NODE_10553   CC     GO:0000785\n",
       "30  NODE_2460    BP     GO:0071294\n",
       "⋮   ⋮            ⋮      ⋮         \n",
       "139 NODE_5665    BP     GO:0031936\n",
       "140 NODE_997     MF     GO:0004198\n",
       "141 NODE_789     BP     GO:0031468\n",
       "142 NODE_2096    BP     GO:0000377\n",
       "143 NODE_6685    CC     GO:0099572\n",
       "144 NODE_1718    CC     GO:0098687\n",
       "145 NODE_1241    MF     GO:0050660\n",
       "146 NODE_1788    CC     GO:0031965\n",
       "147 NODE_264     BP     GO:0007223\n",
       "148 NODE_11653   BP     GO:0021543\n",
       "149 NODE_2202    BP     GO:0023061\n",
       "150 NODE_2891    CC     GO:0000785\n",
       "151 NODE_1530    MF     GO:0005085\n",
       "152 NODE_1351    CC     GO:0000421\n",
       "153 NODE_3366    BP     GO:0042254\n",
       "154 NODE_2888    BP     GO:0022604\n",
       "155 NODE_7886    BP     GO:0045165\n",
       "156 NODE_1017    CC     GO:0031252\n",
       "157 NODE_1909    BP     GO:0043476\n",
       "158 NODE_11121   MF     GO:0003682\n",
       "159 NODE_5281    BP     GO:0072594\n",
       "160 NODE_5348    MF     GO:0001784\n",
       "161 NODE_7632    BP     GO:1901605\n",
       "162 NODE_10841   BP     GO:1904429\n",
       "163 NODE_8337    CC     GO:0044448\n",
       "164 NODE_11254   BP     GO:0003266\n",
       "165 NODE_3367    BP     GO:0006433\n",
       "166 NODE_3906    MF     GO:0031856\n",
       "167 NODE_8895    BP     GO:1905168\n",
       "168 NODE_9814    BP     GO:0071929\n",
       "    term.name                                                                           \n",
       "1   chromosome segregation                                                              \n",
       "2   cytosolic ribosome                                                                  \n",
       "3   lymphocyte activation                                                               \n",
       "4   extracellular matrix organization                                                   \n",
       "5   response to external biotic stimulus                                                \n",
       "6   G-protein coupled receptor activity                                                 \n",
       "7   contractile fiber part                                                              \n",
       "8   circulatory system development                                                      \n",
       "9   mitochondrial inner membrane                                                        \n",
       "10  ncRNA processing                                                                    \n",
       "11  endoplasmic reticulum membrane                                                      \n",
       "12  intracellular ribonucleoprotein complex                                             \n",
       "13  chromatin                                                                           \n",
       "14  nuclear body                                                                        \n",
       "15  actin cytoskeleton                                                                  \n",
       "16  nucleosome assembly                                                                 \n",
       "17  circulatory system development                                                      \n",
       "18  pigment granule                                                                     \n",
       "19  cytosolic ribosome                                                                  \n",
       "20  cornification                                                                       \n",
       "21  metal ion transmembrane transporter activity                                        \n",
       "22  SRP-dependent cotranslational protein targeting to membrane                         \n",
       "23  transcription corepressor activity                                                  \n",
       "24  obsolete gamma-glutamyltransferase activity                                         \n",
       "25  xenobiotic catabolic process                                                        \n",
       "26  cornification                                                                       \n",
       "27  ethanol catabolic process                                                           \n",
       "28  collagen binding                                                                    \n",
       "29  chromatin                                                                           \n",
       "30  cellular response to zinc ion                                                       \n",
       "⋮   ⋮                                                                                   \n",
       "139 negative regulation of chromatin silencing                                          \n",
       "140 calcium-dependent cysteine-type endopeptidase activity                              \n",
       "141 nuclear envelope reassembly                                                         \n",
       "142 RNA splicing, via transesterification reactions with bulged adenosine as nucleophile\n",
       "143 postsynaptic specialization                                                         \n",
       "144 chromosomal region                                                                  \n",
       "145 flavin adenine dinucleotide binding                                                 \n",
       "146 nuclear membrane                                                                    \n",
       "147 Wnt signaling pathway, calcium modulating pathway                                   \n",
       "148 pallium development                                                                 \n",
       "149 signal release                                                                      \n",
       "150 chromatin                                                                           \n",
       "151 guanyl-nucleotide exchange factor activity                                          \n",
       "152 autophagosome membrane                                                              \n",
       "153 ribosome biogenesis                                                                 \n",
       "154 regulation of cell morphogenesis                                                    \n",
       "155 cell fate commitment                                                                \n",
       "156 cell leading edge                                                                   \n",
       "157 pigment accumulation                                                                \n",
       "158 chromatin binding                                                                   \n",
       "159 establishment of protein localization to organelle                                  \n",
       "160 phosphotyrosine residue binding                                                     \n",
       "161 alpha-amino acid metabolic process                                                  \n",
       "162 regulation of t-circle formation                                                    \n",
       "163 cell cortex part                                                                    \n",
       "164 regulation of secondary heart field cardioblast proliferation                       \n",
       "165 prolyl-tRNA aminoacylation                                                          \n",
       "166 parathyroid hormone receptor binding                                                \n",
       "167 positive regulation of double-strand break repair via homologous recombination      \n",
       "168 alpha-tubulin acetylation                                                           \n",
       "    p.value  log10     term.size overlap.size size\n",
       "1   2.10e-59 58.677781 284       58           168 \n",
       "2   3.06e-48 47.514279 111       25            80 \n",
       "3   2.28e-46 45.642065 459       69           283 \n",
       "4   3.23e-46 45.490797 244       41           106 \n",
       "5   1.79e-40 39.747147 563       66           252 \n",
       "6   5.37e-30 29.270026 357       77           900 \n",
       "7   1.26e-22 21.899629 129       13            16 \n",
       "8   1.21e-21 20.917215 568       81           717 \n",
       "9   1.02e-19 18.991400 384       53           509 \n",
       "10  1.24e-14 13.906578 342       27           177 \n",
       "11  2.46e-14 13.609065 696       42           247 \n",
       "12  3.79e-13 12.421361 700       63           538 \n",
       "13  5.93e-13 12.226945 395       10            11 \n",
       "14  1.81e-11 10.742321 597       54           521 \n",
       "15  4.09e-11 10.388277 348        9            11 \n",
       "16  7.65e-11 10.116339 112        6             6 \n",
       "17  1.12e-09  8.950782 568       27           160 \n",
       "18  9.49e-09  8.022734  22        4             5 \n",
       "19  9.73e-09  8.011887 111        5            21 \n",
       "20  1.00e-08  8.000000 107       12           119 \n",
       "21  3.31e-08  7.480172 392       23           215 \n",
       "22  1.00e-07  7.000000  92        5            21 \n",
       "23  1.69e-07  6.772113 195        5             5 \n",
       "24  2.13e-07  6.671620   8        3             5 \n",
       "25  2.22e-07  6.653647   6        3             5 \n",
       "26  6.17e-07  6.209715 107        5             8 \n",
       "27  1.75e-06  5.756962   7        3             8 \n",
       "28  3.14e-06  5.503070  52        4             7 \n",
       "29  5.04e-06  5.297569 395        6             8 \n",
       "30  9.69e-06  5.013676  14        3             7 \n",
       "⋮   ⋮        ⋮         ⋮         ⋮            ⋮   \n",
       "139 0.0319   1.496209    9       2             13 \n",
       "140 0.0324   1.489455   20       2              7 \n",
       "141 0.0333   1.477556   17       2              8 \n",
       "142 0.0341   1.467246  297       5             21 \n",
       "143 0.0350   1.455932   57       5            122 \n",
       "144 0.0352   1.453457  270       3              5 \n",
       "145 0.0354   1.450997   34       2              5 \n",
       "146 0.0362   1.441291  204       3              6 \n",
       "147 0.0365   1.437707   35       3             25 \n",
       "148 0.0366   1.436519   48       2              5 \n",
       "149 0.0368   1.434152  274       3              6 \n",
       "150 0.0381   1.419075  395       3              6 \n",
       "151 0.0384   1.415669  278       3              6 \n",
       "152 0.0387   1.412289   16       2             11 \n",
       "153 0.0388   1.411168  279       3              5 \n",
       "154 0.0401   1.396856  282       3              5 \n",
       "155 0.0407   1.390406  120       4             31 \n",
       "156 0.0412   1.385103  213       3              6 \n",
       "157 0.0412   1.385103   11       2             12 \n",
       "158 0.0445   1.351640  292       3              5 \n",
       "159 0.0452   1.344862  572       8             42 \n",
       "160 0.0461   1.336299   29       2              6 \n",
       "161 0.0471   1.326979  181       3              9 \n",
       "162 0.0489   1.310691    7       2             22 \n",
       "163 0.0494   1.306273   89       2              5 \n",
       "164 0.0500   1.301030    1       1              5 \n",
       "165 0.0500   1.301030    1       1              5 \n",
       "166 0.0500   1.301030    1       1              5 \n",
       "167 0.0500   1.301030    1       1              5 \n",
       "168 0.0500   1.301030    1       1              5 "
      ]
     },
     "metadata": {},
     "output_type": "display_data"
    }
   ],
   "source": [
    "gp.tot %>% select(query.number, domain, term.id, term.name, p.value, log10, term.size, overlap.size, size) %>% filter(query.number %in% best, term.size<=700) %>% group_by(query.number) %>% slice(which.max(log10)) %>% arrange(-log10)"
   ]
  }
 ],
 "metadata": {
  "kernelspec": {
   "display_name": "R",
   "language": "R",
   "name": "ir"
  },
  "language_info": {
   "codemirror_mode": "r",
   "file_extension": ".r",
   "mimetype": "text/x-r-source",
   "name": "R",
   "pygments_lexer": "r",
   "version": "3.3.2"
  }
 },
 "nbformat": 4,
 "nbformat_minor": 2
}
