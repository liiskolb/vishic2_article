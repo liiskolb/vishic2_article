{
 "cells": [
  {
   "cell_type": "markdown",
   "metadata": {},
   "source": [
    "# CLEANsmall comparison to fixed-cut method"
   ]
  },
  {
   "cell_type": "code",
   "execution_count": 108,
   "metadata": {
    "collapsed": false
   },
   "outputs": [
    {
     "name": "stderr",
     "output_type": "stream",
     "text": [
      "also installing the dependencies ‘R.oo’, ‘R.methodsS3’, ‘R.utils’\n",
      "\n",
      "Updating HTML index of packages in '.Library'\n",
      "Making 'packages.html' ... done\n"
     ]
    }
   ],
   "source": [
    "suppressPackageStartupMessages(library(dplyr))\n",
    "library(ggplot2)\n",
    "library(jsonlite)\n",
    "library(RColorBrewer)\n",
    "#install.packages(\"ape\")\n",
    "suppressPackageStartupMessages(library(ape))\n",
    "library(reshape2)\n",
    "suppressPackageStartupMessages(library(dendextend))\n",
    "library(xtable)\n",
    "install.packages(\"SDMTools\")\n",
    "library(SDMTools)"
   ]
  },
  {
   "cell_type": "code",
   "execution_count": 95,
   "metadata": {
    "collapsed": true
   },
   "outputs": [],
   "source": [
    "load(\"../data/CLEANsmall_gp.RData\") # gp.small\n",
    "gp.small.filt = gp.small[gp.small$term.size<=700,]\n",
    "\n",
    "clusters <- fromJSON(\"../data/CLEANsmall_clusters.dict\", flatten=TRUE) # all clusters\n",
    "clusters <- lapply(clusters, function(x) strsplit(x, \" \")[[1]])\n",
    "# Dense nodes\n",
    "# With filtering\n",
    "# First annotated clusters\n",
    "first.sm.filt = \"NODE_5 NODE_6 NODE_1\"\n",
    "first.sm.filt = strsplit(first.sm.filt, \" \")[[1]]\n",
    "\n",
    "# Best p-value clusters\n",
    "best.sm.filt = \"NODE_56 NODE_267 NODE_26 NODE_45 NODE_183 NODE_34 NODE_226 NODE_377 NODE_524 NODE_23 NODE_229 NODE_25\"\n",
    "best.sm.filt = strsplit(best.sm.filt, \" \")[[1]]\n",
    "\n",
    "# F1 clusters\n",
    "F1.sm.filt = \"NODE_282 NODE_183 NODE_676 NODE_226 NODE_621 NODE_857 NODE_982 NODE_653 NODE_518 NODE_979 NODE_783 NODE_1070 NODE_23 NODE_378 NODE_680 NODE_379 NODE_506 NODE_616 NODE_1178 NODE_960 NODE_1289 NODE_1047 NODE_76 NODE_774 NODE_604 NODE_759 NODE_395 NODE_1371 NODE_767 NODE_397 NODE_720 NODE_342 NODE_158 NODE_276 NODE_878 NODE_62 NODE_1053 NODE_511 NODE_459 NODE_1256 NODE_744 NODE_1411 NODE_1009 NODE_400 NODE_470 NODE_967 NODE_970 NODE_768 NODE_749 NODE_466 NODE_1239 NODE_308 NODE_25 NODE_151 NODE_1389 NODE_706 NODE_712\"\n",
    "F1.sm.filt = strsplit(F1.sm.filt, \" \")[[1]]"
   ]
  },
  {
   "cell_type": "code",
   "execution_count": 63,
   "metadata": {
    "collapsed": false
   },
   "outputs": [],
   "source": [
    "tree <- read.tree(\"../data/CLEANsmall_dendrogram.nwk\") # my clustered\n",
    "dend <- as.dendrogram(tree)\n",
    "\n",
    "dend_copy = dend\n",
    "labels(dend_copy) = rep(\"\", length(labels(dend_copy)))"
   ]
  },
  {
   "cell_type": "code",
   "execution_count": null,
   "metadata": {
    "collapsed": true
   },
   "outputs": [],
   "source": []
  },
  {
   "cell_type": "code",
   "execution_count": 91,
   "metadata": {
    "collapsed": true
   },
   "outputs": [],
   "source": [
    "dend2 = as.hclust(tree)\n",
    "heights = seq(0.3,2,0.05)\n",
    "y = cutree(dend2, h=heights) # 35 clusterings"
   ]
  },
  {
   "cell_type": "code",
   "execution_count": 96,
   "metadata": {
    "collapsed": true
   },
   "outputs": [],
   "source": [
    "# Get all the clusters by ID\n",
    "dend_clusters = list()\n",
    "for(i in 1:dim(y)[2]){\n",
    "  c = y[,i] # one clustering\n",
    "  ch = colnames(y)[i] # cut height\n",
    "  #clusters as a \n",
    "  denses_cut = lapply(1:max(c), function(x) names(c[c==x]))\n",
    "  # Keep the clusters of size larger than 5 and smaller than 1000\n",
    "  denses_cut = Filter(function(x){length(x)>4 && length(x)<1001},denses_cut)\n",
    "  # Find the names of the clusters\n",
    "  idx = names(clusters)[match(denses_cut, clusters)]\n",
    "  dend_clusters[[ch]] = idx\n",
    "  }"
   ]
  },
  {
   "cell_type": "code",
   "execution_count": 99,
   "metadata": {
    "collapsed": false
   },
   "outputs": [
    {
     "data": {
      "text/html": [
       "<table>\n",
       "<thead><tr><th scope=col>Height</th><th scope=col>nr_clusters</th><th scope=col>nr_annot_clusters</th></tr></thead>\n",
       "<tbody>\n",
       "\t<tr><td>0.3 </td><td> 2  </td><td> 0  </td></tr>\n",
       "\t<tr><td>0.35</td><td> 4  </td><td> 4  </td></tr>\n",
       "\t<tr><td>0.4 </td><td> 6  </td><td> 4  </td></tr>\n",
       "\t<tr><td>0.45</td><td> 6  </td><td> 5  </td></tr>\n",
       "\t<tr><td>0.5 </td><td> 9  </td><td> 9  </td></tr>\n",
       "\t<tr><td>0.55</td><td>13  </td><td>10  </td></tr>\n",
       "</tbody>\n",
       "</table>\n"
      ],
      "text/latex": [
       "\\begin{tabular}{r|lll}\n",
       " Height & nr\\_clusters & nr\\_annot\\_clusters\\\\\n",
       "\\hline\n",
       "\t 0.3  &  2   &  0  \\\\\n",
       "\t 0.35 &  4   &  4  \\\\\n",
       "\t 0.4  &  6   &  4  \\\\\n",
       "\t 0.45 &  6   &  5  \\\\\n",
       "\t 0.5  &  9   &  9  \\\\\n",
       "\t 0.55 & 13   & 10  \\\\\n",
       "\\end{tabular}\n"
      ],
      "text/markdown": [
       "\n",
       "Height | nr_clusters | nr_annot_clusters | \n",
       "|---|---|---|---|---|---|\n",
       "| 0.3  |  2   |  0   | \n",
       "| 0.35 |  4   |  4   | \n",
       "| 0.4  |  6   |  4   | \n",
       "| 0.45 |  6   |  5   | \n",
       "| 0.5  |  9   |  9   | \n",
       "| 0.55 | 13   | 10   | \n",
       "\n",
       "\n"
      ],
      "text/plain": [
       "  Height nr_clusters nr_annot_clusters\n",
       "1 0.3     2           0               \n",
       "2 0.35    4           4               \n",
       "3 0.4     6           4               \n",
       "4 0.45    6           5               \n",
       "5 0.5     9           9               \n",
       "6 0.55   13          10               "
      ]
     },
     "metadata": {},
     "output_type": "display_data"
    }
   ],
   "source": [
    "res = data.frame(\"Height\"=names(dend_clusters))\n",
    "res[[\"nr_clusters\"]] = unlist(lapply(dend_clusters, function(x) length(x)))\n",
    "res[[\"nr_annot_clusters\"]] = unlist(lapply(dend_clusters, function(x) sum(x %in% unique(gp.small.filt$query.number))))\n",
    "#xtable(res, type = \"latex\") # Table 7\n",
    "head(res)"
   ]
  },
  {
   "cell_type": "code",
   "execution_count": 119,
   "metadata": {
    "collapsed": false
   },
   "outputs": [],
   "source": [
    "fix_cut = lapply(dend_clusters, function(x) gp.small.filt[gp.small.filt$query.number %in% x,])\n",
    "cut = do.call(\"rbind\", fix_cut)\n",
    "cut[[\"method\"]] <- rep(names(fix_cut), sapply(fix_cut, nrow))\n",
    "cut %>% dplyr::select(query.number, term.id, method, p.value) %>% group_by(method, term.id) %>% dplyr::mutate(n=n()) %>% group_by(method, query.number) %>% dplyr::mutate(nr_terms=n()) %>% group_by(method, query.number) %>% dplyr::summarise(nr_uniq_terms=sum(n==1), nr_terms=max(nr_terms), prop=sum(n==1)/max(nr_terms)) -> fixed"
   ]
  },
  {
   "cell_type": "code",
   "execution_count": 92,
   "metadata": {
    "collapsed": true
   },
   "outputs": [],
   "source": [
    "color_branches2 <- function(dend, k=NULL, h=NULL, col, groupLabels=NULL, \n",
    "                           clusters,\n",
    "                           warn = dendextend_options(\"warn\"), ...){\n",
    "\n",
    "   # This function makes sure a col vector is produced from various outputs.\n",
    "   get_col <- function(col, u_clusters) {\n",
    "      if(is.function(col)) {\n",
    "         col <- col(u_clusters)\n",
    "      } else {\n",
    "         if(length(col) < k) {\n",
    "            #          stop(\"Must give the same number of colors as number of clusters\")\n",
    "            warning(\"Length of color vector was shorter than the number of clusters - color vector was recycled\")\n",
    "            col <- rep(col, length.out = k)\n",
    "         }\n",
    "         if(length(col) > k) {\n",
    "            #          stop(\"Must give the same number of colors as number of clusters\")\n",
    "            warning(\"Length of color vector was longer than the number of clusters - first k elements are used\")\n",
    "            col <- col[seq_len(k)]\n",
    "         }\n",
    "      }\n",
    "      return(col)\n",
    "   }\n",
    "     \n",
    "#    col <- colorspace::rainbow_hcl\n",
    "   if(missing(col)) col <- rainbow_fun\n",
    "   \n",
    "   \n",
    "   if(!missing(clusters)) {\n",
    "      if(!missing(k)) warning(\"Both the parameters 'cluster' and 'k' are not missing - k is ignored.\")\n",
    "      \n",
    "      if(length(clusters) != nleaves(dend)) {\n",
    "         warning(\"'clusters' is not of the same length as the number of labels. The dend is returned as is.\")\n",
    "         return(dend)\n",
    "      }\n",
    "      \n",
    "      u_clusters <- unique(clusters)\n",
    "      k <- length(u_clusters)\n",
    "      col <- get_col(col, u_clusters)\n",
    "      # col[u_clusters==0] <- \"black\"\n",
    "      return(branches_attr_by_clusters(dend, clusters, values = col[2:length(col)], attr = \"col\",\n",
    "                                       branches_changed_have_which_labels = \"all\")   )\n",
    "   }\n",
    "    \n",
    "   # Make sure the function works when the labels of the dend are not all unique\n",
    "   old_labels <- labels(dend)\n",
    "   labels_arent_unique <- !all_unique(old_labels)\n",
    "   if(labels_arent_unique) {\n",
    "      if(warn) warning(\"Your dend labels are NOT unique!\\n This may cause an un expected issue with the color of the branches.\\n Hence, your labels were temporarily turned unique (and then fixed as they were before).\")\n",
    "      labels(dend) <- seq_along(old_labels)\n",
    "   }\n",
    "   \n",
    "   \n",
    "   if(is.null(k) & is.null(h)) {\n",
    "      if(warn) warning(\"k (number of clusters) is missing, using the dend size as a default\")      \n",
    "      k <- nleaves(dend)\n",
    "   }\n",
    "   \n",
    "   if(!is.dendrogram(dend) && !is.hclust(dend)) stop(\"dend needs to be either a dendrogram or an hclust object\")\n",
    "   g <- dendextend::cutree(dend, k=k, h=h, order_clusters_as_data=FALSE)\n",
    "   if(is.hclust(dend)) dend <- as.dendrogram(dend)\n",
    "   \n",
    "   k <- max(g)\n",
    "   \n",
    "   # For when we have flat dends\n",
    "   if(k == 0L) {\n",
    "      if(warn) warning(\"dend has only one level - returning the dendrogram with no colors.\")\n",
    "      return(dend)\n",
    "   }\n",
    "   \n",
    "   #col <- get_col(col, u_clusters)\n",
    "   print(col)\n",
    "   if(!is.null(groupLabels)){\n",
    "      if(length(groupLabels)==1){\n",
    "         if(is.function(groupLabels))\n",
    "            groupLabels=groupLabels(seq.int(length.out=k))\n",
    "         else if(is.logical(groupLabels)){\n",
    "            if(groupLabels)\n",
    "               groupLabels=seq.int(length.out=k)\n",
    "            else groupLabels=NULL\n",
    "         }\n",
    "      }\n",
    "      if(!is.null(groupLabels) && length(groupLabels)!=k)\n",
    "         stop(\"Must give same number of group labels as clusters\")\n",
    "   }\n",
    "   \n",
    "   addcol <- function(dend_node,col) {      \n",
    "      if(is.null(attr(dend_node, \"edgePar\"))) {\n",
    "         attr(dend_node,'edgePar') <- list(col=col)\n",
    "      } else {            \n",
    "         attr(dend_node, \"edgePar\")[[\"col\"]] <- col\n",
    "#             within(attr(dend_node, \"edgePar\"), \n",
    "#                    {col=col}) \n",
    "         # this way it doesn't erase other nodePar values (if they exist)\n",
    "      }\n",
    "      unclass(dend_node)\n",
    "   }\n",
    "   \n",
    "   descendTree <- function(sd){\n",
    "      groupsinsubtree=unique(g[labels(sd)])\n",
    "      if(length(groupsinsubtree)>1){\n",
    "         # keep descending \n",
    "         for(i in seq(sd))\n",
    "            sd[[i]] <- descendTree(sd[[i]])\n",
    "      } else {\n",
    "         # else assign Colors\n",
    "         # sd=dendrapply(sd,addcol,col[groupsinsubtree],groupsinsubtree)\n",
    "         sd=dendrapply(sd,addcol,col[groupsinsubtree])\n",
    "         if(!is.null(groupLabels)){\n",
    "            attr(sd,'edgetext')=groupLabels[groupsinsubtree]\n",
    "             attr(sd,'edgePar')=c(attr(sd,'edgePar'),list(p.border=col[groupsinsubtree]))\n",
    "#            attr(sd,'edgePar')[[\"p.border\"]]=col[groupsinsubtree]\n",
    "         }\n",
    "      }\n",
    "      unclass(sd)\n",
    "   }\n",
    "   \n",
    "   if(!is.character(labels(dend))) labels(dend) <- as.character(labels(dend))\n",
    "   dend <- descendTree(dend)\n",
    "   class(dend) <- \"dendrogram\"\n",
    "\n",
    "   # If we previously had \"uniqified\" the labels, they should now be \"fixed back\" before returning the dend.\n",
    "   if(labels_arent_unique) labels(dend) <- old_labels\n",
    "\n",
    "   dend   \n",
    "}"
   ]
  },
  {
   "cell_type": "code",
   "execution_count": 103,
   "metadata": {
    "collapsed": true
   },
   "outputs": [],
   "source": [
    "gp.small.filt %>% \n",
    "  dplyr::select(query.number, term.id, term.name, domain, p.value, log10, F1, term.size, overlap.size, query.size, size) %>% group_by(query.number) %>% filter(query.number %in% first.sm.filt) %>% mutate(method=\"First annotation(filtered)\") -> first.sm.filt.res\n",
    "\n",
    "gp.small.filt %>% \n",
    "  dplyr::select(query.number, term.id, term.name, domain, p.value, log10, F1, term.size, overlap.size, query.size, size) %>%\n",
    "  group_by(query.number) %>% \n",
    "  filter(query.number %in% best.sm.filt) %>% mutate(method=\"Best annotation(filtered)\") -> best.sm.filt.res\n",
    "\n",
    "gp.small.filt %>% dplyr::select(query.number, term.id, term.name, domain, p.value, log10, F1, term.size, overlap.size, query.size, size) %>% group_by(query.number) %>% filter(query.number %in% F1.sm.filt) %>% mutate(method=\"F1 annotation(filtered)\") -> F1.sm.filt.res\n",
    "\n",
    "stats <- rbind(first.sm.filt.res, best.sm.filt.res, F1.sm.filt.res)"
   ]
  },
  {
   "cell_type": "code",
   "execution_count": 121,
   "metadata": {
    "collapsed": false
   },
   "outputs": [],
   "source": [
    "cuts = unique(cut$method)\n",
    "#cuts = cuts[cuts %in% c(\"0.5\",\"0.6\",\"0.8\",\"1.0\",\"1.1\", \"1.5\", \"1.6\", \"1.8\")]\n",
    "stats %>% dplyr::select(query.number, term.id, method, p.value) %>% group_by(method, term.id) %>% dplyr::mutate(n=n()) %>% group_by(method, query.number) %>% dplyr::mutate(nr_terms=n()) %>% group_by(method, query.number) %>% dplyr::summarise(nr_uniq_terms=sum(n==1), nr_terms=max(nr_terms), prop=sum(n==1)/max(nr_terms)) -> stats2\n",
    "stats2 %>% filter(method==\"Best annotation(filtered)\") -> best\n",
    "nodes = rep(0,length(tree$tip.label)) # vishic method\n",
    "for(cl in best.sm.filt){\n",
    "    nodes[which(tree$tip.label %in% clusters[[cl]])] = as.numeric(gsub(\"NODE_\",\"\", cl))\n",
    "}\n",
    "\n",
    "cols <- function(u_clusters){\n",
    "  possible_cl = unique(nodes)\n",
    "  # colors\n",
    "  qual_col_pals = brewer.pal.info[brewer.pal.info$category == 'qual',]\n",
    "  col_vector = unlist(mapply(brewer.pal, qual_col_pals$maxcolors, rownames(qual_col_pals)))\n",
    "  best_cols = col_vector[1:length(possible_cl)]\n",
    "  names(best_cols) <- gsub(\"NODE_\",\"\", possible_cl)\n",
    "  best_cols[[\"0\"]] <- \"black\"\n",
    "  left_cols = setdiff(col_vector, best_cols)\n",
    "  colors = c()\n",
    "  for(cl in u_clusters){\n",
    "    if(cl %in% names(best_cols)){\n",
    "      col = best_cols[[as.character(cl)]]\n",
    "      colors = append(colors, col)\n",
    "    }\n",
    "    else{\n",
    "      set.seed(cl)\n",
    "      col = sample(left_cols, 1)\n",
    "      while((col %in% colors)){\n",
    "        col = sample(left_cols, 1)\n",
    "      }\n",
    "      colors = append(colors, col)\n",
    "    }\n",
    "  }\n",
    "  return(colors)\n",
    "}\n",
    "\n",
    "\n",
    "dend1 <- color_branches2(dend, clusters = nodes, col=cols)\n",
    "labels(dend1) = rep(\"\", length(labels(dend1)))\n",
    "\n",
    "# Fixed height cut\n",
    "fix_cut_trees = list()\n",
    "for(c in cuts){\n",
    "  fixed_clusters = unique(cut[cut$method==c,\"query.number\"])\n",
    "  fixed_nodes = rep(0,length(tree$tip.label))\n",
    "  for(cl in fixed_clusters){\n",
    "    fixed_nodes[which(tree$tip.label %in% clusters[[cl]])] = gsub(\"NODE_\",\"\", cl)\n",
    "  }\n",
    "  fix_cut_trees[[c]] = fixed_nodes\n",
    "}\n",
    "\n",
    "\n",
    "color.gradient <- function(x, colors=c(\"white\",\"blue\"), colsteps=100) {\n",
    "  return( (colorRampPalette(colors) (colsteps) [ findInterval(x, seq(0,1, length.out=colsteps)) ] ))\n",
    "}\n",
    "\n",
    "prop_colors <- c(\"black\")\n",
    "prop_colors <- append(prop_colors, color.gradient(best[match(unique(nodes[nodes!=\"0\"]),gsub(\"NODE_\",\"\",best.sm.filt)),][[\"prop\"]]))\n",
    "names(prop_colors) = c(\"0\", unique(nodes[nodes!=\"0\"]))\n",
    "prop_colors_big = prop_colors[as.character(nodes)]\n",
    "\n",
    "all_bars = cbind(prop_colors_big, rep(\"white\",length(prop_colors_big)))\n",
    "all_labels = c(\"VisHiC\",\"\")\n",
    "for(n1 in names(fix_cut_trees)){\n",
    "  prop_colors2 <- c(\"0\" = \"black\")\n",
    "  helper = fixed[fixed$method==n1,]\n",
    "  prop_colors2 <- append(prop_colors2, x = color.gradient(helper[match(unique(fix_cut_trees[[n1]][fix_cut_trees[[n1]]!=\"0\"]),gsub(\"NODE_\",\"\",helper$query.number)),][[\"prop\"]]))\n",
    "  names(prop_colors2) = c(unique(fix_cut_trees[[n1]][fix_cut_trees[[n1]]!=\"0\"]), \"0\")\n",
    "  prop_colors_fix = prop_colors2[as.character(fix_cut_trees[[n1]])]\n",
    "  if(n1==\"0.6\"){\n",
    "      all_bars = cbind(all_bars, rep(\"white\",length(prop_colors_big)), prop_colors_fix, rep(\"white\",length(prop_colors_big)))\n",
    "      all_labels = append(all_labels, \"\")\n",
    "      all_labels = append(all_labels, paste0(\"h=\",n1))\n",
    "      all_labels = append(all_labels, \"\")\n",
    "  }\n",
    "  else{\n",
    "      all_bars = cbind(all_bars, prop_colors_fix)\n",
    "      all_labels = append(all_labels, paste0(\"h=\",n1))\n",
    "  }\n",
    "}\n",
    "all_bars = all_bars[,ncol(all_bars):1]\n"
   ]
  },
  {
   "cell_type": "code",
   "execution_count": 122,
   "metadata": {
    "collapsed": false
   },
   "outputs": [
    {
     "data": {
      "text/html": [
       "<strong>pdf:</strong> 2"
      ],
      "text/latex": [
       "\\textbf{pdf:} 2"
      ],
      "text/markdown": [
       "**pdf:** 2"
      ],
      "text/plain": [
       "pdf \n",
       "  2 "
      ]
     },
     "metadata": {},
     "output_type": "display_data"
    }
   ],
   "source": [
    "pnts = cbind(x =c(-2.2,-2.26,-2.26,-2.2), y =c(400.0,400.0,0,0))\n",
    "\n",
    "pdf(\"fixed_cut_comparison_best_hm_Fig14.pdf\", width=7.5, height=7.5)\n",
    "par(cex=0.7, xpd = TRUE, mar = c(4,1,2,30))\n",
    "plot(dend1, main=\"Best annotation (filtered)\", horiz=TRUE)\n",
    "legend.gradient(pnts, cols = color.gradient(seq(0,1,length.out=100)), title = \"Unique\\nproportion\", limits = c(0,1), cex=1)\n",
    "colored_bars(all_bars, dend1, rowLabels = rev(all_labels), horiz = TRUE, cex.rowLabels = 0.8,  text_shift = 0.7)\n",
    "dev.off()"
   ]
  },
  {
   "cell_type": "code",
   "execution_count": 125,
   "metadata": {
    "collapsed": false
   },
   "outputs": [],
   "source": [
    "\n",
    "## F1 method\n",
    "stats2 %>% filter(method==\"F1 annotation(filtered)\") -> f1\n",
    "nodes = rep(0,length(tree$tip.label)) # vishic method\n",
    "for(cl in F1.sm.filt){\n",
    "    nodes[which(tree$tip.label %in% clusters[[cl]])] = as.numeric(gsub(\"NODE_\",\"\", cl))\n",
    "}\n",
    "\n",
    "dend1 <- color_branches2(dend, clusters = nodes, col=cols)\n",
    "labels(dend1) = rep(\"\", length(labels(dend1)))\n",
    "\n",
    "prop_colors <- c(\"black\")\n",
    "prop_colors <- append(prop_colors, color.gradient(f1[match(unique(nodes[nodes!=\"0\"]),gsub(\"NODE_\",\"\",F1.sm.filt)),][[\"prop\"]]))\n",
    "names(prop_colors) = c(\"0\", unique(nodes[nodes!=\"0\"]))\n",
    "prop_colors_big = prop_colors[as.character(nodes)]\n",
    "\n",
    "all_bars = cbind(prop_colors_big, rep(\"white\",length(prop_colors_big)))\n",
    "all_labels = c(\"VisHiC\",\"\")\n",
    "for(n1 in names(fix_cut_trees)){\n",
    "  prop_colors2 <- c(\"0\" = \"black\")\n",
    "  helper = fixed[fixed$method==n1,]\n",
    "  prop_colors2 <- append(prop_colors2, x = color.gradient(helper[match(unique(fix_cut_trees[[n1]][fix_cut_trees[[n1]]!=\"0\"]),gsub(\"NODE_\",\"\",helper$query.number)),][[\"prop\"]]))\n",
    "  names(prop_colors2) = c(unique(fix_cut_trees[[n1]][fix_cut_trees[[n1]]!=\"0\"]), \"0\")\n",
    "  prop_colors_fix = prop_colors2[as.character(fix_cut_trees[[n1]])]\n",
    "  if(n1==\"0.6\"){\n",
    "      all_bars = cbind(all_bars, rep(\"white\",length(prop_colors_big)), prop_colors_fix, rep(\"white\",length(prop_colors_big)))\n",
    "      all_labels = append(all_labels, \"\")\n",
    "      all_labels = append(all_labels, paste0(\"h=\",n1))\n",
    "      all_labels = append(all_labels, \"\")\n",
    "  }\n",
    "  else{\n",
    "      all_bars = cbind(all_bars, prop_colors_fix)\n",
    "      all_labels = append(all_labels, paste0(\"h=\",n1))\n",
    "  }\n",
    "}\n",
    "all_bars = all_bars[,ncol(all_bars):1]"
   ]
  },
  {
   "cell_type": "code",
   "execution_count": 127,
   "metadata": {
    "collapsed": false
   },
   "outputs": [
    {
     "data": {
      "text/html": [
       "<strong>pdf:</strong> 2"
      ],
      "text/latex": [
       "\\textbf{pdf:} 2"
      ],
      "text/markdown": [
       "**pdf:** 2"
      ],
      "text/plain": [
       "pdf \n",
       "  2 "
      ]
     },
     "metadata": {},
     "output_type": "display_data"
    }
   ],
   "source": [
    "\n",
    "pdf(\"fixed_cut_comparison_f1_hm_Fig15.pdf\", width=7.5, height=7.5)\n",
    "par(cex=0.7, xpd = TRUE, mar = c(4,1,2,30))\n",
    "plot(dend1, main=\"F1 annotation (filtered)\", horiz=TRUE)\n",
    "legend.gradient(pnts, cols = color.gradient(seq(0,1,length.out=100)), title = \"Unique\\nproportion\", limits = c(0,1), cex=1)\n",
    "colored_bars(all_bars, dend1, rowLabels = rev(all_labels), horiz = TRUE, cex.rowLabels = 0.8,  text_shift = 0.7)\n",
    "dev.off()"
   ]
  },
  {
   "cell_type": "code",
   "execution_count": 128,
   "metadata": {
    "collapsed": true
   },
   "outputs": [],
   "source": [
    "# First annotation\n",
    "stats2 %>% filter(method==\"First annotation(filtered)\") -> first\n",
    "nodes = rep(0,length(tree$tip.label)) # vishic method\n",
    "for(cl in first.sm.filt){\n",
    "    nodes[which(tree$tip.label %in% clusters[[cl]])] = as.numeric(gsub(\"NODE_\",\"\", cl))\n",
    "}\n",
    "\n",
    "dend1 <- color_branches(dend, clusters = nodes)\n",
    "labels(dend1) = rep(\"\", length(labels(dend1)))\n",
    "\n",
    "prop_colors <- c(\"black\")\n",
    "prop_colors <- append(prop_colors, color.gradient(first[match(unique(nodes[nodes!=\"0\"]),gsub(\"NODE_\",\"\",first.sm.filt)),][[\"prop\"]]))\n",
    "names(prop_colors) = c(\"0\", unique(nodes[nodes!=\"0\"]))\n",
    "prop_colors_big = prop_colors[as.character(nodes)]\n",
    "\n",
    "all_bars = cbind(prop_colors_big, rep(\"white\",length(prop_colors_big)))\n",
    "all_labels = c(\"VisHiC\",\"\")\n",
    "for(n1 in names(fix_cut_trees)){\n",
    "  prop_colors2 <- c(\"0\" = \"black\")\n",
    "  helper = fixed[fixed$method==n1,]\n",
    "  prop_colors2 <- append(prop_colors2, x = color.gradient(helper[match(unique(fix_cut_trees[[n1]][fix_cut_trees[[n1]]!=\"0\"]),gsub(\"NODE_\",\"\",helper$query.number)),][[\"prop\"]]))\n",
    "  names(prop_colors2) = c(unique(fix_cut_trees[[n1]][fix_cut_trees[[n1]]!=\"0\"]), \"0\")\n",
    "  prop_colors_fix = prop_colors2[as.character(fix_cut_trees[[n1]])]\n",
    "  if(n1==\"0.6\"){\n",
    "      all_bars = cbind(all_bars, rep(\"white\",length(prop_colors_big)), prop_colors_fix, rep(\"white\",length(prop_colors_big)))\n",
    "      all_labels = append(all_labels, \"\")\n",
    "      all_labels = append(all_labels, paste0(\"h=\",n1))\n",
    "      all_labels = append(all_labels, \"\")\n",
    "  }\n",
    "  else{\n",
    "      all_bars = cbind(all_bars, prop_colors_fix)\n",
    "      all_labels = append(all_labels, paste0(\"h=\",n1))\n",
    "  }\n",
    "}\n",
    "all_bars = all_bars[,ncol(all_bars):1]"
   ]
  },
  {
   "cell_type": "code",
   "execution_count": 130,
   "metadata": {
    "collapsed": false
   },
   "outputs": [
    {
     "data": {
      "text/html": [
       "<strong>pdf:</strong> 2"
      ],
      "text/latex": [
       "\\textbf{pdf:} 2"
      ],
      "text/markdown": [
       "**pdf:** 2"
      ],
      "text/plain": [
       "pdf \n",
       "  2 "
      ]
     },
     "metadata": {},
     "output_type": "display_data"
    }
   ],
   "source": [
    "pdf(\"fixed_cut_comparison_first_hm_Fig16.pdf\", width=7.5, height=7.5)\n",
    "par(cex=0.7, xpd = TRUE, mar = c(4,1,2,30))\n",
    "plot(dend1, main=\"First annotation (filtered)\", horiz=TRUE)\n",
    "legend.gradient(pnts, cols = color.gradient(seq(0,1,length.out=100)), title = \"Unique\\nproportion\", limits = c(0,1), cex=1)\n",
    "colored_bars(all_bars, dend1, rowLabels = rev(all_labels), horiz = TRUE, cex.rowLabels = 0.8,  text_shift = 0.7)\n",
    "dev.off()"
   ]
  }
 ],
 "metadata": {
  "kernelspec": {
   "display_name": "R",
   "language": "R",
   "name": "ir"
  },
  "language_info": {
   "codemirror_mode": "r",
   "file_extension": ".r",
   "mimetype": "text/x-r-source",
   "name": "R",
   "pygments_lexer": "r",
   "version": "3.3.2"
  }
 },
 "nbformat": 4,
 "nbformat_minor": 2
}
