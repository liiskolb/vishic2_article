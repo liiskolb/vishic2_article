{
 "cells": [
  {
   "cell_type": "markdown",
   "metadata": {},
   "source": [
    "# Randomization tests of CLEANsmall"
   ]
  },
  {
   "cell_type": "code",
   "execution_count": 2,
   "metadata": {
    "collapsed": false
   },
   "outputs": [],
   "source": [
    "suppressPackageStartupMessages(library(dplyr))\n",
    "library(ggplot2)\n",
    "library(jsonlite)\n",
    "library(RColorBrewer)\n",
    "#install.packages(\"ape\")\n",
    "suppressPackageStartupMessages(library(ape))\n",
    "library(reshape2)\n",
    "#install.packages(\"doParallel\")\n",
    "library(doParallel)\n",
    "library(foreach)\n",
    "library(gProfileR)\n",
    "set_base_url(\"http://biit.cs.ut.ee/gprofiler_archive3/r1741_e90_eg37/web/\")"
   ]
  },
  {
   "cell_type": "code",
   "execution_count": 3,
   "metadata": {
    "collapsed": true
   },
   "outputs": [],
   "source": [
    "# Helper function\n",
    "mutate_querynr <- function(query.number, group_size){\n",
    "  rle_x = rle(query.number)\n",
    "  end = cumsum(rle_x$lengths)\n",
    "  start = c(1, lag(end)[-1] + 1)\n",
    "  order = data.frame(start, end)\n",
    "  newquerynr = c()\n",
    "  for (i in 1:nrow(order)) {\n",
    "    s = order[i,\"start\"]\n",
    "    e = order[i,\"end\"]\n",
    "    newquerynr = append(newquerynr, rep(ceiling(i/group_size), e-s+1))\n",
    "  }\n",
    "  return(newquerynr)\n",
    "}"
   ]
  },
  {
   "cell_type": "code",
   "execution_count": 4,
   "metadata": {
    "collapsed": true
   },
   "outputs": [],
   "source": [
    "load(\"../data/CLEANsmall_gp.RData\") # gp.small\n",
    "gp.small.filt = gp.small[gp.small$term.size<=700,]\n",
    "\n",
    "clusters <- fromJSON(\"../data/CLEANsmall_clusters.dict\", flatten=TRUE) # all clusters\n",
    "clusters <- lapply(clusters, function(x) strsplit(x, \" \")[[1]])\n",
    "# Dense nodes\n",
    "# With filtering\n",
    "# First annotated clusters\n",
    "first.sm.filt = \"NODE_5 NODE_6 NODE_1\"\n",
    "first.sm.filt = strsplit(first.sm.filt, \" \")[[1]]\n",
    "\n",
    "# Best p-value clusters\n",
    "best.sm.filt = \"NODE_56 NODE_267 NODE_26 NODE_45 NODE_183 NODE_34 NODE_226 NODE_377 NODE_524 NODE_23 NODE_229 NODE_25\"\n",
    "best.sm.filt = strsplit(best.sm.filt, \" \")[[1]]\n",
    "\n",
    "# F1 clusters\n",
    "F1.sm.filt = \"NODE_282 NODE_183 NODE_676 NODE_226 NODE_621 NODE_857 NODE_982 NODE_653 NODE_518 NODE_979 NODE_783 NODE_1070 NODE_23 NODE_378 NODE_680 NODE_379 NODE_506 NODE_616 NODE_1178 NODE_960 NODE_1289 NODE_1047 NODE_76 NODE_774 NODE_604 NODE_759 NODE_395 NODE_1371 NODE_767 NODE_397 NODE_720 NODE_342 NODE_158 NODE_276 NODE_878 NODE_62 NODE_1053 NODE_511 NODE_459 NODE_1256 NODE_744 NODE_1411 NODE_1009 NODE_400 NODE_470 NODE_967 NODE_970 NODE_768 NODE_749 NODE_466 NODE_1239 NODE_308 NODE_25 NODE_151 NODE_1389 NODE_706 NODE_712\"\n",
    "F1.sm.filt = strsplit(F1.sm.filt, \" \")[[1]]"
   ]
  },
  {
   "cell_type": "code",
   "execution_count": 5,
   "metadata": {
    "collapsed": true
   },
   "outputs": [],
   "source": [
    "MyTree = read.tree(\"../data/CLEANsmall_dendrogram.nwk\") # my clustered dendrogram"
   ]
  },
  {
   "cell_type": "code",
   "execution_count": 64,
   "metadata": {
    "collapsed": false
   },
   "outputs": [],
   "source": [
    "rand = MyTree\n",
    "\n",
    "# First annotation\n",
    "first_idx = list()\n",
    "for(cl in first.sm.filt){\n",
    "    first_idx[[cl]] = which(MyTree$tip.label %in% clusters[[cl]])  \n",
    "}\n",
    "\n",
    "# Best annotation\n",
    "best_idx = list()\n",
    "for(cl in best.sm.filt){\n",
    "    best_idx[[cl]] = which(MyTree$tip.label %in% clusters[[cl]])  \n",
    "}\n",
    "\n",
    "# F1 annotation\n",
    "f1_idx = list()\n",
    "for(cl in F1.sm.filt){\n",
    "    f1_idx[[cl]] = which(MyTree$tip.label %in% clusters[[cl]])  \n",
    "}\n",
    "\n",
    "# 1000 Random samples\n",
    "first_rand_clusters = list()\n",
    "best_rand_clusters = list()\n",
    "f1_rand_clusters = list()\n",
    "for(i in 1:1000){\n",
    "  # shuffle the leaves\n",
    "  rand$tip.label = sample(rand$tip.label, length(rand$tip.label))\n",
    "  # find the clusters\n",
    "  helper = list()\n",
    "  for(node in names(first_idx)){\n",
    "    helper[[node]] = rand$tip.label[first_idx[[node]]]\n",
    "    first_rand_clusters[[i]] = helper\n",
    "  }\n",
    "  helper = list()\n",
    "  for(node in names(best_idx)){\n",
    "    helper[[node]] = rand$tip.label[best_idx[[node]]]\n",
    "    best_rand_clusters[[i]] = helper\n",
    "  }\n",
    "  helper = list()\n",
    "  for(node in names(f1_idx)){\n",
    "    helper[[node]] = rand$tip.label[f1_idx[[node]]]\n",
    "    f1_rand_clusters[[i]] = helper\n",
    "  }\n",
    "}"
   ]
  },
  {
   "cell_type": "code",
   "execution_count": 6,
   "metadata": {
    "collapsed": false
   },
   "outputs": [
    {
     "ename": "ERROR",
     "evalue": "Error in eval(expr, envir, enclos): object 'f1_rand_clusters' not found\n",
     "output_type": "error",
     "traceback": [
      "Error in eval(expr, envir, enclos): object 'f1_rand_clusters' not found\nTraceback:\n"
     ]
    }
   ],
   "source": [
    "length(f1_rand_clusters) # 1000 randomizations\n",
    "# Save these to files\n",
    "save(f1_rand_clusters, file=\"f1_rand_clusters.RData\")\n",
    "save(first_rand_clusters, file=\"first_rand_clusters.RData\")\n",
    "save(best_rand_clusters, file=\"best_rand_clusters.RData\")"
   ]
  },
  {
   "cell_type": "code",
   "execution_count": 7,
   "metadata": {
    "collapsed": true
   },
   "outputs": [],
   "source": [
    "load(file=\"f1_rand_clusters.RData\")\n",
    "load(file=\"first_rand_clusters.RData\")\n",
    "load(file=\"best_rand_clusters.RData\")"
   ]
  },
  {
   "cell_type": "code",
   "execution_count": 8,
   "metadata": {
    "collapsed": false
   },
   "outputs": [],
   "source": [
    "## Annotate the random clusters to GO\n",
    "organism = \"hsapiens\"\n",
    "# First method\n",
    "x <- seq_along(first_rand_clusters)\n",
    "clusters_grouped = split(first_rand_clusters, ceiling(x/50))\n",
    "group_size = length(first_rand_clusters[[1]])\n",
    "\n",
    "cl <- makeCluster(3)\n",
    "registerDoParallel(cl)\n",
    "\n",
    "gp.rand_first <- foreach(j=1:length(clusters_grouped), .combine='rbind', .packages=c(\"gProfileR\")) %dopar% {\n",
    "  p <- do.call(\"gprofiler\", list(query=unlist(clusters_grouped[[j]], recursive=F), organism=organism, exclude_iea = T, significant=T, src_filter = c(\"GO:BP\",\"GO:MF\",\"GO:CC\")))\n",
    "}\n",
    "\n",
    "stopCluster(cl) \n",
    "registerDoSEQ()\n",
    "\n",
    "gp.rand_first$query = mutate_querynr(gp.rand_first$query.number, 3)\n",
    "save(gp.rand_first, file=\"gp.rand_first.RData\")"
   ]
  },
  {
   "cell_type": "code",
   "execution_count": 9,
   "metadata": {
    "collapsed": false
   },
   "outputs": [],
   "source": [
    "# Best method\n",
    "x <- seq_along(best_rand_clusters)\n",
    "clusters_grouped = split(best_rand_clusters, ceiling(x/50))\n",
    "group_size = length(best_rand_clusters[[1]])\n",
    "\n",
    "cl <- makeCluster(3)\n",
    "registerDoParallel(cl)\n",
    "\n",
    "gp.rand_best <- foreach(j=1:length(clusters_grouped), .combine='rbind', .packages=c(\"gProfileR\")) %dopar% {\n",
    "  p <- do.call(\"gprofiler\", list(query=unlist(clusters_grouped[[j]], recursive=F), organism=organism, exclude_iea = T, significant=T, src_filter = c(\"GO:BP\",\"GO:MF\",\"GO:CC\")))\n",
    "}\n",
    "\n",
    "stopCluster(cl) \n",
    "registerDoSEQ() \n",
    "\n",
    "gp.rand_best$query = mutate_querynr(gp.rand_best$query.number, group_size)"
   ]
  },
  {
   "cell_type": "code",
   "execution_count": 10,
   "metadata": {
    "collapsed": true
   },
   "outputs": [],
   "source": [
    "save(gp.rand_best, file=\"gp.rand_best.RData\")"
   ]
  },
  {
   "cell_type": "code",
   "execution_count": 11,
   "metadata": {
    "collapsed": true
   },
   "outputs": [],
   "source": [
    "# F1 method\n",
    "x <- seq_along(f1_rand_clusters)\n",
    "clusters_grouped = split(f1_rand_clusters, ceiling(x/10))\n",
    "group_size = length(f1_rand_clusters[[1]])\n",
    "\n",
    "cl <- makeCluster(5)\n",
    "registerDoParallel(cl)\n",
    "\n",
    "gp.rand_f1 <- foreach(j=1:length(clusters_grouped), .combine='rbind', .packages=c(\"gProfileR\")) %dopar% {\n",
    "  p <- do.call(\"gprofiler\", list(query=unlist(clusters_grouped[[j]], recursive=F), organism=organism, exclude_iea = T, significant=T, src_filter = c(\"GO:BP\",\"GO:MF\",\"GO:CC\")))\n",
    "}\n",
    "\n",
    "stopCluster(cl) \n",
    "registerDoSEQ() \n",
    "\n",
    "gp.rand_f1$query = mutate_querynr(gp.rand_f1$query.number, group_size)\n",
    "save(gp.rand_f1, file=\"gp.rand_f1.RData\")"
   ]
  },
  {
   "cell_type": "code",
   "execution_count": 13,
   "metadata": {
    "collapsed": false
   },
   "outputs": [],
   "source": [
    "## Proportion of clusters\n",
    "gp.small.filt %>% \n",
    "  dplyr::select(query.number, term.id, term.name, domain, p.value, log10, F1, term.size, overlap.size, query.size, size) %>% group_by(query.number) %>% filter(query.number %in% first.sm.filt) %>% mutate(method=\"First annotation(filtered)\") -> first.sm.filt.res\n",
    "\n",
    "gp.small.filt %>% \n",
    "  dplyr::select(query.number, term.id, term.name, domain, p.value, log10, F1, term.size, overlap.size, query.size, size) %>%\n",
    "  group_by(query.number) %>% \n",
    "  filter(query.number %in% best.sm.filt) %>% mutate(method=\"Best annotation(filtered)\") -> best.sm.filt.res\n",
    "\n",
    "gp.small.filt %>% dplyr::select(query.number, term.id, term.name, domain, p.value, log10, F1, term.size, overlap.size, query.size, size) %>% group_by(query.number) %>% filter(query.number %in% F1.sm.filt) %>% mutate(method=\"F1 annotation(filtered)\") -> F1.sm.filt.res\n",
    "\n",
    "stats <- rbind(first.sm.filt.res, best.sm.filt.res, F1.sm.filt.res)\n",
    "stats %>% dplyr::select(query.number, term.id, method, p.value) %>% group_by(method, term.id) %>% dplyr::mutate(n=n()) %>% group_by(method, query.number) %>% dplyr::mutate(nr_terms=n()) %>% group_by(method, query.number) %>% dplyr::summarise(nr_uniq_terms=sum(n==1), nr_terms=max(nr_terms), prop=sum(n==1)/max(nr_terms)) -> stats"
   ]
  },
  {
   "cell_type": "code",
   "execution_count": 15,
   "metadata": {
    "collapsed": false
   },
   "outputs": [
    {
     "data": {
      "text/html": [
       "1"
      ],
      "text/latex": [
       "1"
      ],
      "text/markdown": [
       "1"
      ],
      "text/plain": [
       "[1] 1"
      ]
     },
     "metadata": {},
     "output_type": "display_data"
    },
    {
     "data": {
      "text/html": [
       "0"
      ],
      "text/latex": [
       "0"
      ],
      "text/markdown": [
       "0"
      ],
      "text/plain": [
       "[1] 0"
      ]
     },
     "metadata": {},
     "output_type": "display_data"
    },
    {
     "data": {
      "text/html": [
       "0"
      ],
      "text/latex": [
       "0"
      ],
      "text/markdown": [
       "0"
      ],
      "text/plain": [
       "[1] 0"
      ]
     },
     "metadata": {},
     "output_type": "display_data"
    }
   ],
   "source": [
    "# Filter out big terms\n",
    "gp.rand_first2 = gp.rand_first[gp.rand_first$term.size<=700,]\n",
    "gp.rand_best2 = gp.rand_best[gp.rand_best$term.size<=700,]\n",
    "gp.rand_f12 = gp.rand_f1[gp.rand_f1$term.size<=700,]\n",
    "\n",
    "# Find the uniqueness\n",
    "gp.rand_first2 %>% dplyr::select(query.number, term.id, query, p.value) %>% group_by(query, term.id) %>% dplyr::mutate(n=n()) %>% group_by(query, query.number) %>% dplyr::mutate(nr_terms=n()) %>% group_by(query, query.number) %>% dplyr::summarise(nr_uniq_terms=sum(n==1), nr_terms=max(nr_terms), prop=sum(n==1)/max(nr_terms)) -> rand_first\n",
    "\n",
    "gp.rand_best2 %>% dplyr::select(query.number, term.id, query, p.value) %>% group_by(query, term.id) %>% dplyr::mutate(n=n()) %>% group_by(query, query.number) %>% dplyr::mutate(nr_terms=n()) %>% group_by(query, query.number) %>% dplyr::summarise(nr_uniq_terms=sum(n==1), nr_terms=max(nr_terms), prop=sum(n==1)/max(nr_terms)) -> rand_best\n",
    "\n",
    "gp.rand_f12 %>% dplyr::select(query.number, term.id, query, p.value) %>% group_by(query, term.id) %>% dplyr::mutate(n=n()) %>% group_by(query, query.number) %>% dplyr::mutate(nr_terms=n()) %>% group_by(query, query.number) %>% dplyr::summarise(nr_uniq_terms=sum(n==1), nr_terms=max(nr_terms), prop=sum(n==1)/max(nr_terms)) -> rand_f1\n",
    "\n",
    "# Keep only full sets. How many full sets out of 1000?\n",
    "rand_first %>% group_by(query) %>% dplyr::mutate(count = n()) %>% dplyr::filter(count==length(first_rand_clusters[[1]])) -> rand_first.full\n",
    "\n",
    "rand_best %>% group_by(query) %>% dplyr::mutate(count = n()) %>% dplyr::filter(count==length(best_rand_clusters[[1]])) -> rand_best.full\n",
    "\n",
    "rand_f1 %>% group_by(query) %>% dplyr::mutate(count = n()) %>% dplyr::filter(count==length(f1_rand_clusters[[1]])) -> rand_f1.full\n",
    "\n",
    "length(unique(rand_first.full$query))/1000\n",
    "length(unique(rand_best.full$query))/1000\n",
    "length(unique(rand_f1.full$query))/1000"
   ]
  },
  {
   "cell_type": "code",
   "execution_count": 29,
   "metadata": {
    "collapsed": false
   },
   "outputs": [
    {
     "data": {},
     "metadata": {},
     "output_type": "display_data"
    },
    {
     "name": "stderr",
     "output_type": "stream",
     "text": [
      "Saving 178 x 178 mm image\n"
     ]
    },
    {
     "data": {
      "image/png": "[encoded data removed]",
      "text/plain": [
       "plot without title"
      ]
     },
     "metadata": {},
     "output_type": "display_data"
    }
   ],
   "source": [
    "rand_first.full %>% group_by(query) %>% dplyr::summarise(ave=mean(prop)) -> ave_prop\n",
    "\n",
    "mu = mean(stats[stats$method==\"First annotation(filtered)\",][[\"prop\"]])\n",
    "\n",
    "ggplot(data.frame(ave_prop)) + geom_histogram(aes(x=ave), bins=50) + theme_bw() + xlab(\"Average proportion of unique functions\") + ylab(\"Count\") + geom_vline(xintercept=mu, col=\"red\") + scale_x_continuous(breaks=seq(0,1,0.1), labels = seq(0,1,0.1), limits=c(0,1))\n",
    "ggsave(\"Random_First_Fig13.pdf\", dpi=600, units=\"mm\", width=178)\n"
   ]
  }
 ],
 "metadata": {
  "kernelspec": {
   "display_name": "R",
   "language": "R",
   "name": "ir"
  },
  "language_info": {
   "codemirror_mode": "r",
   "file_extension": ".r",
   "mimetype": "text/x-r-source",
   "name": "R",
   "pygments_lexer": "r",
   "version": "3.3.2"
  }
 },
 "nbformat": 4,
 "nbformat_minor": 2
}
